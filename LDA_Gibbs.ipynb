{
 "cells": [
  {
   "cell_type": "markdown",
   "metadata": {},
   "source": [
    "# LDA using Gibb's sampling\n",
    "\n",
    "Op basis van uitleg in http://u.cs.biu.ac.il/~89-680/darling-lda.pdf\n",
    "\n",
    "Using Gensim functionality\n",
    "\n",
    "Dus we mogen ervan uitgaan dat we een dictionary hebben en bow vectors voor de documenten.\n",
    "Het een en ander aan counts komt dan uit gensim. Maar hoe?\n",
    "\n",
    "Wat hebben we nodig?\n",
    "\n",
    "* The number of words assigned to topic k in document d: $$n_{d;k}$$\n",
    "* The number of times word w is assigned to topic k: $$n_{k;w}$$\n",
    "* The total number of times any word is assigned to topic k: $$n_k$$\n",
    "* Array z which will contain the current topic assignment for each of the N words in the corpus.\n"
   ]
  },
  {
   "cell_type": "code",
   "execution_count": 1,
   "metadata": {
    "collapsed": false
   },
   "outputs": [],
   "source": [
    "# Generate documents\n",
    "import numpy as np\n",
    "\n",
    "length = 100\n",
    "num_topics = 3\n",
    "vocabulary = np.array(['zon', 'ijs', 'strand', 'vanille', 'chocola', 'broccoli', 'wortel'])\n",
    "\n",
    "real_theta = np.array([[0.5, 0.0, 0.5],\n",
    "                       [0.3, 0.3, 0.4],\n",
    "                       [0.1, 0.8, 0.1],\n",
    "                       [0.7, 0.3, 0.0],\n",
    "                       [0.4, 0.4, 0.2]])\n",
    "real_phi = np.array([[0.4, 0.2, 0.4, 0.0, 0.0, 0.0, 0.0],\n",
    "                     [0.0, 0.3, 0.0, 0.35, 0.35, 0.0, 0.0],\n",
    "                     [0.0, 0.0, 0.0, 0.0, 0.0, 0.5, 0.5]])"
   ]
  },
  {
   "cell_type": "code",
   "execution_count": 6,
   "metadata": {
    "collapsed": false
   },
   "outputs": [
    {
     "name": "stdout",
     "output_type": "stream",
     "text": [
      "document 1 ['wortel', 'strand', 'wortel', 'broccoli', 'wortel', 'broccoli', 'wortel', 'broccoli', 'zon', 'broccoli', 'broccoli', 'zon', 'wortel', 'strand', 'broccoli', 'broccoli', 'wortel', 'strand', 'strand', 'strand', 'wortel', 'strand', 'ijs', 'wortel', 'wortel', 'wortel', 'strand', 'broccoli', 'broccoli', 'wortel', 'wortel', 'zon', 'broccoli', 'wortel', 'strand', 'strand', 'ijs', 'wortel', 'wortel', 'strand', 'strand', 'ijs', 'broccoli', 'broccoli', 'zon', 'wortel', 'broccoli', 'zon', 'ijs', 'ijs', 'wortel', 'broccoli', 'zon', 'zon', 'zon', 'zon', 'strand', 'zon', 'broccoli', 'broccoli', 'broccoli', 'broccoli', 'wortel', 'wortel', 'zon', 'broccoli', 'zon', 'ijs', 'zon', 'zon', 'strand', 'ijs', 'wortel', 'strand', 'wortel', 'zon', 'ijs', 'wortel', 'wortel', 'strand', 'strand', 'broccoli', 'zon', 'zon', 'zon', 'strand', 'broccoli', 'broccoli', 'strand', 'strand', 'broccoli', 'ijs', 'broccoli', 'wortel', 'wortel', 'zon', 'strand', 'wortel', 'broccoli', 'wortel']\n",
      "document 2 ['wortel', 'broccoli', 'ijs', 'wortel', 'strand', 'ijs', 'ijs', 'broccoli', 'ijs', 'vanille', 'wortel', 'broccoli', 'broccoli', 'strand', 'ijs', 'ijs', 'zon', 'wortel', 'wortel', 'zon', 'broccoli', 'broccoli', 'wortel', 'ijs', 'broccoli', 'chocola', 'zon', 'broccoli', 'chocola', 'chocola', 'ijs', 'wortel', 'wortel', 'zon', 'ijs', 'vanille', 'zon', 'zon', 'broccoli', 'strand', 'chocola', 'broccoli', 'ijs', 'broccoli', 'broccoli', 'chocola', 'wortel', 'ijs', 'chocola', 'zon', 'vanille', 'strand', 'vanille', 'vanille', 'wortel', 'broccoli', 'chocola', 'wortel', 'broccoli', 'broccoli', 'strand', 'broccoli', 'zon', 'broccoli', 'zon', 'ijs', 'broccoli', 'broccoli', 'strand', 'zon', 'broccoli', 'broccoli', 'chocola', 'wortel', 'broccoli', 'strand', 'ijs', 'wortel', 'wortel', 'wortel', 'chocola', 'vanille', 'ijs', 'ijs', 'ijs', 'wortel', 'ijs', 'chocola', 'ijs', 'broccoli', 'broccoli', 'vanille', 'broccoli', 'chocola', 'broccoli', 'vanille', 'ijs', 'broccoli', 'ijs', 'vanille']\n",
      "document 3 ['chocola', 'chocola', 'chocola', 'ijs', 'chocola', 'chocola', 'ijs', 'vanille', 'vanille', 'ijs', 'ijs', 'wortel', 'chocola', 'zon', 'ijs', 'ijs', 'ijs', 'vanille', 'vanille', 'ijs', 'ijs', 'ijs', 'chocola', 'chocola', 'vanille', 'zon', 'wortel', 'ijs', 'vanille', 'ijs', 'chocola', 'chocola', 'vanille', 'ijs', 'vanille', 'vanille', 'chocola', 'vanille', 'vanille', 'chocola', 'chocola', 'ijs', 'ijs', 'chocola', 'broccoli', 'vanille', 'ijs', 'chocola', 'ijs', 'ijs', 'chocola', 'ijs', 'ijs', 'vanille', 'wortel', 'ijs', 'wortel', 'wortel', 'strand', 'wortel', 'vanille', 'vanille', 'vanille', 'ijs', 'broccoli', 'chocola', 'chocola', 'ijs', 'ijs', 'vanille', 'vanille', 'chocola', 'vanille', 'vanille', 'chocola', 'chocola', 'ijs', 'ijs', 'strand', 'chocola', 'vanille', 'ijs', 'chocola', 'vanille', 'strand', 'chocola', 'vanille', 'vanille', 'wortel', 'vanille', 'ijs', 'vanille', 'strand', 'ijs', 'chocola', 'ijs', 'ijs', 'chocola', 'vanille', 'vanille']\n",
      "document 4 ['ijs', 'strand', 'ijs', 'zon', 'strand', 'ijs', 'zon', 'zon', 'strand', 'zon', 'chocola', 'strand', 'vanille', 'strand', 'strand', 'ijs', 'ijs', 'strand', 'chocola', 'strand', 'zon', 'ijs', 'ijs', 'ijs', 'strand', 'zon', 'zon', 'strand', 'zon', 'strand', 'strand', 'strand', 'strand', 'zon', 'ijs', 'vanille', 'zon', 'vanille', 'strand', 'vanille', 'chocola', 'zon', 'zon', 'strand', 'zon', 'strand', 'ijs', 'strand', 'chocola', 'zon', 'strand', 'zon', 'vanille', 'ijs', 'zon', 'ijs', 'zon', 'zon', 'ijs', 'chocola', 'strand', 'ijs', 'zon', 'ijs', 'zon', 'zon', 'ijs', 'zon', 'vanille', 'strand', 'zon', 'strand', 'zon', 'ijs', 'zon', 'ijs', 'strand', 'strand', 'strand', 'zon', 'strand', 'zon', 'chocola', 'ijs', 'strand', 'zon', 'strand', 'ijs', 'strand', 'ijs', 'vanille', 'chocola', 'zon', 'chocola', 'zon', 'zon', 'vanille', 'vanille', 'zon', 'zon']\n",
      "document 5 ['zon', 'vanille', 'ijs', 'zon', 'strand', 'zon', 'zon', 'chocola', 'strand', 'zon', 'strand', 'vanille', 'strand', 'strand', 'vanille', 'ijs', 'broccoli', 'zon', 'strand', 'strand', 'strand', 'chocola', 'vanille', 'ijs', 'zon', 'ijs', 'wortel', 'strand', 'strand', 'chocola', 'strand', 'ijs', 'ijs', 'wortel', 'vanille', 'wortel', 'chocola', 'strand', 'vanille', 'broccoli', 'zon', 'zon', 'broccoli', 'strand', 'zon', 'ijs', 'ijs', 'wortel', 'strand', 'wortel', 'strand', 'ijs', 'chocola', 'chocola', 'chocola', 'ijs', 'broccoli', 'vanille', 'zon', 'ijs', 'strand', 'zon', 'chocola', 'wortel', 'broccoli', 'ijs', 'zon', 'strand', 'vanille', 'zon', 'chocola', 'zon', 'zon', 'vanille', 'ijs', 'ijs', 'ijs', 'vanille', 'chocola', 'chocola', 'chocola', 'ijs', 'chocola', 'broccoli', 'wortel', 'strand', 'vanille', 'chocola', 'broccoli', 'wortel', 'wortel', 'ijs', 'wortel', 'strand', 'strand', 'wortel', 'strand', 'strand', 'wortel', 'broccoli']\n"
     ]
    }
   ],
   "source": [
    "# generate the corpus\n",
    "corpus = []\n",
    "\n",
    "for m, tm in enumerate(real_theta):\n",
    "    doc = []\n",
    "    for i in range(length):\n",
    "        # sample topic\n",
    "        topic = np.random.multinomial(1, tm)\n",
    "        topic_index = np.where(topic==1)[0][0]\n",
    "        word = np.random.multinomial(1, real_phi[topic_index])\n",
    "        doc.append(vocabulary[np.where(word==1)[0][0]])\n",
    "    corpus.append(doc)\n",
    "    \n",
    "for i, doc in enumerate(corpus):\n",
    "    print 'document', i+1, doc\n",
    "\n"
   ]
  },
  {
   "cell_type": "code",
   "execution_count": 31,
   "metadata": {
    "collapsed": false
   },
   "outputs": [],
   "source": [
    "from gensim import corpora\n",
    "\n",
    "d = corpora.Dictionary(corpus)"
   ]
  },
  {
   "cell_type": "code",
   "execution_count": 7,
   "metadata": {
    "collapsed": false
   },
   "outputs": [
    {
     "name": "stdout",
     "output_type": "stream",
     "text": [
      "{(0, 86): 0, (3, 35): 1, (4, 36): 0, (2, 84): 1, (0, 76): 0, (4, 66): 0, (1, 64): 1, (2, 78): 0, (0, 98): 1, (3, 86): 1, (0, 17): 1, (1, 28): 1, (2, 27): 2, (0, 55): 1, (3, 2): 1, (1, 54): 2, (4, 5): 1, (2, 53): 1, (0, 45): 2, (3, 40): 1, (1, 40): 1, (4, 35): 2, (2, 47): 0, (0, 67): 0, (4, 73): 0, (1, 89): 1, (2, 73): 0, (3, 95): 0, (4, 87): 2, (2, 99): 1, (1, 21): 2, (2, 18): 0, (0, 14): 0, (3, 11): 2, (1, 15): 2, (4, 12): 1, (2, 12): 1, (0, 36): 2, (3, 17): 2, (1, 33): 1, (4, 42): 0, (2, 38): 2, (0, 90): 0, (3, 55): 2, (4, 48): 2, (1, 82): 0, (2, 64): 0, (3, 68): 1, (4, 94): 0, (0, 5): 2, (1, 0): 2, (4, 11): 0, (2, 7): 0, (0, 59): 2, (3, 22): 1, (1, 58): 1, (4, 17): 0, (2, 33): 0, (0, 81): 0, (3, 60): 2, (4, 63): 2, (2, 91): 2, (3, 77): 0, (4, 69): 2, (1, 77): 1, (3, 83): 0, (4, 99): 2, (0, 28): 0, (1, 25): 1, (2, 30): 2, (0, 50): 1, (3, 31): 1, (1, 51): 1, (4, 24): 0, (2, 56): 1, (0, 40): 2, (3, 37): 2, (4, 38): 0, (2, 82): 0, (0, 78): 0, (4, 76): 1, (1, 70): 0, (2, 76): 1, (3, 88): 0, (0, 19): 1, (1, 18): 0, (2, 25): 1, (0, 9): 0, (3, 4): 0, (1, 52): 2, (4, 7): 1, (2, 51): 2, (0, 47): 2, (3, 42): 0, (1, 46): 2, (4, 45): 2, (2, 45): 1, (0, 69): 1, (3, 48): 2, (4, 75): 0, (1, 95): 1, (2, 71): 1, (3, 65): 2, (4, 81): 0, (2, 97): 2, (2, 16): 1, (0, 0): 2, (3, 13): 1, (1, 13): 0, (4, 14): 1, (2, 10): 2, (0, 38): 2, (3, 19): 0, (1, 39): 0, (4, 20): 0, (2, 36): 1, (0, 92): 2, (3, 57): 0, (4, 50): 2, (1, 80): 0, (2, 94): 1, (3, 70): 2, (4, 88): 2, (1, 74): 0, (0, 7): 2, (1, 6): 1, (2, 5): 1, (0, 61): 1, (3, 24): 0, (1, 56): 1, (4, 19): 1, (2, 63): 2, (0, 83): 1, (3, 62): 0, (4, 57): 2, (2, 89): 2, (0, 73): 2, (3, 79): 2, (4, 71): 1, (1, 67): 2, (3, 85): 2, (0, 30): 0, (1, 31): 1, (2, 28): 2, (0, 52): 2, (3, 1): 0, (1, 49): 2, (4, 26): 0, (2, 54): 1, (0, 42): 0, (3, 39): 2, (1, 43): 1, (4, 32): 2, (2, 80): 1, (0, 64): 0, (4, 78): 0, (1, 68): 1, (2, 74): 1, (3, 90): 2, (4, 84): 2, (0, 21): 2, (3, 96): 0, (1, 16): 1, (2, 23): 1, (0, 11): 2, (3, 6): 2, (1, 10): 0, (4, 1): 0, (2, 49): 0, (0, 33): 2, (3, 44): 0, (1, 44): 2, (4, 47): 2, (2, 43): 2, (0, 71): 2, (3, 50): 0, (4, 53): 0, (1, 93): 2, (2, 69): 1, (3, 67): 2, (4, 83): 0, (0, 2): 0, (3, 15): 1, (1, 3): 0, (4, 8): 2, (2, 8): 2, (0, 56): 1, (3, 21): 0, (1, 37): 0, (4, 22): 0, (2, 34): 1, (0, 94): 0, (3, 59): 0, (4, 60): 1, (1, 86): 0, (2, 92): 1, (3, 72): 1, (4, 90): 2, (1, 72): 0, (4, 96): 2, (1, 98): 0, (0, 25): 0, (1, 4): 1, (2, 3): 2, (0, 63): 2, (3, 26): 0, (1, 62): 2, (4, 29): 2, (2, 61): 1, (0, 85): 2, (3, 32): 2, (4, 59): 2, (2, 87): 0, (0, 75): 1, (4, 65): 1, (1, 65): 1, (0, 97): 1, (3, 87): 1, (0, 16): 1, (1, 29): 0, (2, 26): 1, (0, 54): 0, (3, 3): 2, (1, 55): 1, (4, 4): 1, (2, 52): 0, (0, 44): 1, (3, 41): 0, (1, 41): 1, (4, 34): 2, (2, 46): 2, (0, 66): 0, (4, 72): 1, (1, 90): 1, (2, 72): 1, (3, 92): 2, (4, 86): 2, (2, 98): 2, (0, 23): 1, (3, 98): 1, (1, 22): 1, (2, 21): 2, (0, 13): 1, (3, 8): 1, (1, 8): 1, (4, 3): 0, (2, 15): 2, (0, 35): 1, (3, 46): 2, (1, 34): 1, (4, 41): 2, (2, 41): 0, (0, 89): 0, (3, 52): 1, (4, 55): 0, (1, 83): 1, (2, 67): 1, (3, 69): 1, (4, 93): 2, (0, 4): 2, (1, 1): 0, (4, 10): 2, (2, 6): 0, (0, 58): 2, (3, 23): 0, (1, 59): 0, (4, 16): 0, (2, 32): 1, (0, 80): 2, (3, 61): 1, (4, 62): 1, (1, 84): 1, (2, 90): 0, (3, 74): 2, (4, 68): 1, (1, 78): 2, (3, 80): 1, (4, 98): 0, (1, 96): 1, (0, 27): 2, (1, 26): 1, (2, 1): 1, (0, 49): 0, (3, 28): 2, (1, 60): 0, (4, 31): 1, (2, 59): 1, (0, 87): 2, (3, 34): 0, (4, 37): 2, (2, 85): 0, (0, 77): 1, (4, 67): 0, (1, 71): 0, (2, 79): 2, (0, 99): 0, (3, 89): 1, (0, 18): 1, (1, 19): 2, (2, 24): 1, (0, 8): 1, (3, 5): 1, (1, 53): 2, (4, 6): 1, (2, 50): 2, (0, 46): 1, (3, 43): 1, (1, 47): 0, (4, 44): 1, (2, 44): 0, (0, 68): 0, (3, 49): 1, (4, 74): 2, (1, 88): 0, (2, 70): 2, (3, 94): 1, (4, 80): 2, (2, 96): 2, (1, 20): 2, (2, 19): 0, (0, 15): 1, (3, 10): 2, (1, 14): 2, (4, 13): 2, (2, 13): 2, (0, 37): 1, (3, 16): 0, (1, 32): 1, (4, 43): 1, (2, 39): 1, (0, 91): 1, (3, 54): 0, (4, 49): 0, (1, 81): 1, (2, 65): 2, (3, 71): 0, (4, 95): 2, (1, 75): 2, (0, 6): 0, (1, 7): 2, (2, 4): 0, (0, 60): 0, (3, 25): 1, (1, 57): 1, (4, 18): 1, (2, 62): 0, (0, 82): 1, (3, 63): 1, (4, 56): 0, (2, 88): 0, (0, 72): 0, (3, 76): 2, (4, 70): 1, (1, 76): 1, (3, 82): 2, (0, 29): 2, (1, 24): 2, (2, 31): 2, (0, 51): 2, (3, 30): 2, (1, 50): 0, (4, 25): 1, (2, 57): 1, (0, 41): 1, (3, 36): 0, (4, 39): 1, (2, 83): 1, (0, 79): 1, (4, 77): 2, (1, 69): 2, (2, 77): 1, (3, 91): 2, (0, 20): 1, (3, 97): 0, (1, 17): 2, (2, 22): 1, (0, 10): 1, (3, 7): 2, (1, 11): 1, (4, 0): 0, (2, 48): 0, (0, 32): 2, (3, 45): 0, (1, 45): 2, (4, 46): 1, (2, 42): 2, (0, 70): 2, (3, 51): 0, (4, 52): 1, (1, 94): 2, (2, 68): 1, (3, 64): 1, (4, 82): 0, (2, 17): 2, (0, 1): 0, (3, 12): 1, (1, 12): 1, (4, 15): 0, (2, 11): 1, (0, 39): 0, (3, 18): 0, (1, 38): 1, (4, 21): 1, (2, 37): 2, (0, 93): 0, (3, 56): 1, (4, 51): 1, (1, 87): 1, (2, 95): 2, (3, 73): 2, (4, 89): 0, (1, 73): 1, (1, 99): 0, (0, 24): 2, (1, 5): 0, (2, 2): 0, (0, 62): 1, (3, 27): 1, (1, 63): 2, (4, 28): 1, (2, 60): 2, (0, 84): 2, (3, 33): 1, (4, 58): 2, (2, 86): 1, (0, 74): 2, (3, 78): 1, (4, 64): 0, (1, 66): 1, (0, 96): 2, (3, 84): 2, (0, 31): 1, (1, 30): 2, (2, 29): 2, (0, 53): 1, (3, 0): 2, (1, 48): 1, (4, 27): 2, (2, 55): 2, (0, 43): 0, (3, 38): 2, (1, 42): 2, (4, 33): 2, (2, 81): 2, (0, 65): 0, (4, 79): 1, (1, 91): 2, (2, 75): 0, (3, 93): 1, (4, 85): 1, (0, 22): 1, (3, 99): 1, (1, 23): 2, (2, 20): 2, (0, 12): 0, (3, 9): 2, (1, 9): 1, (4, 2): 0, (2, 14): 0, (0, 34): 1, (3, 47): 0, (1, 35): 2, (4, 40): 1, (2, 40): 0, (0, 88): 0, (3, 53): 0, (4, 54): 2, (1, 92): 2, (2, 66): 1, (3, 66): 2, (4, 92): 2, (0, 3): 0, (3, 14): 2, (1, 2): 1, (4, 9): 2, (2, 9): 0, (0, 57): 2, (3, 20): 0, (1, 36): 2, (4, 23): 2, (2, 35): 1, (0, 95): 0, (3, 58): 1, (4, 61): 2, (1, 85): 0, (2, 93): 0, (3, 75): 0, (4, 91): 1, (1, 79): 2, (3, 81): 0, (4, 97): 1, (1, 97): 1, (0, 26): 2, (1, 27): 1, (2, 0): 2, (0, 48): 0, (3, 29): 2, (1, 61): 1, (4, 30): 2, (2, 58): 0}\n",
      "[[34 33 33]\n",
      " [24 44 32]\n",
      " [28 38 34]\n",
      " [33 33 34]\n",
      " [31 31 38]]\n",
      "500\n",
      "[[23 33 22 14 16 23 19]\n",
      " [29 33 31 22 25 19 20]\n",
      " [28 32 29 21 18 20 23]]\n",
      "500\n",
      "Counter({1: 179, 2: 171, 0: 150})\n"
     ]
    }
   ],
   "source": [
    "# initialize z\n",
    "import random\n",
    "from collections import Counter\n",
    "\n",
    "z = {}\n",
    "ndk = np.zeros((len(corpus), len(real_phi)), dtype=np.int)\n",
    "nkw = np.zeros((len(real_phi), len(vocabulary)), dtype=np.int)\n",
    "nk = Counter()\n",
    "\n",
    "for d, doc in enumerate(corpus):\n",
    "    for i, word in enumerate(doc):\n",
    "        t = random.randint(0,2)\n",
    "        z[(d, i)] = t\n",
    "        ndk[d][t] += 1\n",
    "        word_index = np.where(vocabulary==word)[0][0]\n",
    "        nkw[t][word_index] += 1\n",
    "        nk[t] += 1\n",
    "\n",
    "print z\n",
    "print ndk\n",
    "print np.sum(ndk)\n",
    "print nkw\n",
    "print np.sum(nkw)\n",
    "print nk"
   ]
  },
  {
   "cell_type": "code",
   "execution_count": 8,
   "metadata": {
    "collapsed": false
   },
   "outputs": [
    {
     "name": "stdout",
     "output_type": "stream",
     "text": [
      "[[63  0 37]\n",
      " [54 46  0]\n",
      " [ 0 35 65]\n",
      " [ 0 76 24]\n",
      " [25  0 75]]\n",
      "[[80  0  0  0  0 62  0]\n",
      " [ 0 98  0  0 59  0  0]\n",
      " [ 0  0 82 57  0  0 62]]\n",
      "Counter({2: 201, 1: 157, 0: 142})\n"
     ]
    }
   ],
   "source": [
    "# iterate\n",
    "\n",
    "def p_z(alpha, beta, num_topics, num_words, d, topic, word_index):\n",
    "    #print alpha, beta, num_topics, num_words, d, topic, word_index\n",
    "    #print ndk[d][topic], nkw[topic][word_index], nk[topic]\n",
    "    return (ndk[d][topic]*alpha)*(nkw[topic][word_index]+beta)/(nk[topic]+beta*num_words)\n",
    "\n",
    "def normalize(p):\n",
    "    minimum = np.min(p)\n",
    "    maximum = np.max(p)\n",
    "    \n",
    "    if minimum < 0:\n",
    "        return normalize((p - minimum)/(maximum - minimum))\n",
    "    return p/sum(p)\n",
    "\n",
    "num_iter = 10000\n",
    "\n",
    "alpha = 5\n",
    "beta = 0.02\n",
    "\n",
    "theta = np.zeros((num_iter,  len(corpus), num_topics))\n",
    "phi = np.zeros((num_iter, num_topics, len(vocabulary)))\n",
    "\n",
    "for t in range(num_iter):\n",
    "    for d, doc in enumerate(corpus):\n",
    "        for i, w in enumerate(doc):\n",
    "            word = (d, i)\n",
    "            topic = z[word]\n",
    "            \n",
    "            #print w\n",
    "            \n",
    "            #print 'prev topic', topic\n",
    "            # mag alleen als de betreffende getallen > 0, anders komen er negatieve kansen uit (en dat kan niet)\n",
    "            # vergelijk met https://gist.github.com/mblondel/542786\n",
    "            \n",
    "            #if ndk[d][topic] == 0 or nkw[topic][word_index] == 0 or nk[topic] == 0:\n",
    "            #    print 'Found a zero'\n",
    "            #    print 'ndk', ndk[d][topic]\n",
    "            #    print ndk\n",
    "            #    print\n",
    "            #    print 'nkw', nkw[topic][word_index]\n",
    "            #    print nkw\n",
    "            #    print\n",
    "                \n",
    "            #    print 'nk', nk[topic]\n",
    "            #    print nk\n",
    "            \n",
    "            word_index = np.where(vocabulary==w)[0][0]\n",
    "                \n",
    "            if ndk[d][topic] > 0 and nkw[topic][word_index] > 0 and nk[topic] > 0:\n",
    "                ndk[d][topic] -= 1\n",
    "                nkw[topic][word_index] -= 1\n",
    "                nk[topic] -= 1\n",
    "            \n",
    "                p = [p_z(alpha, beta, len(real_phi), len(vocabulary), d, i, word_index) for i in range(len(real_phi))]\n",
    "                #print p\n",
    "                # normalize\n",
    "                p = normalize(p)\n",
    "                #print p, sum(p)\n",
    "            \n",
    "                to = np.random.multinomial(1, p)\n",
    "                #except ValueError:\n",
    "                #    print \n",
    "                #    print p\n",
    "                #    print alpha, beta, len(real_phi), len(vocabulary), d, i, word_index\n",
    "                #    print ndk[d][topic], nkw[topic][word_index], nk[topic]\n",
    "                topic = np.where(to==1)[0][0]\n",
    "            \n",
    "                ndk[d][topic] += 1\n",
    "                nkw[topic][word_index] += 1\n",
    "                nk[topic] += 1\n",
    "    # calculate theta and phi\n",
    "    theta[t] = (ndk+float(alpha))/(np.sum(ndk, axis=1, keepdims=True)+num_topics*alpha)\n",
    "    phi[t] = (nkw+float(beta))/(np.sum(nkw, axis=1, keepdims=True)+len(vocabulary)*beta)\n",
    "            #print 'new topic', topic\n",
    "print ndk\n",
    "print nkw\n",
    "print nk"
   ]
  },
  {
   "cell_type": "code",
   "execution_count": 9,
   "metadata": {
    "collapsed": false
   },
   "outputs": [
    {
     "name": "stdout",
     "output_type": "stream",
     "text": [
      "theta\n",
      "found\n",
      "[[ 0.57306087  0.04359304  0.38334609]\n",
      " [ 0.47332435  0.48317217  0.04350348]\n",
      " [ 0.04349652  0.39480957  0.56169391]\n",
      " [ 0.08858261  0.61784435  0.29357304]\n",
      " [ 0.27371043  0.04354348  0.68274609]]\n",
      "real\n",
      "[[ 0.5  0.   0.5]\n",
      " [ 0.3  0.3  0.4]\n",
      " [ 0.1  0.8  0.1]\n",
      " [ 0.7  0.3  0. ]\n",
      " [ 0.4  0.4  0.2]]\n",
      "\n",
      "phi\n",
      "found\n",
      "[[  5.62894690e-01   1.69806329e-04   1.55745091e-04   1.54608352e-04\n",
      "    1.46561809e-04   4.36314282e-01   1.64306498e-04]\n",
      " [  1.39052791e-04   6.23605296e-01   2.17692036e-04   1.74437224e-04\n",
      "    3.75506031e-01   1.35017200e-04   2.22474328e-04]\n",
      " [  1.59071782e-04   1.37276712e-04   4.07734811e-01   2.83484857e-01\n",
      "    1.07186624e-04   1.06691917e-04   3.08270105e-01]]\n",
      "real\n",
      "[[ 0.4   0.2   0.4   0.    0.    0.    0.  ]\n",
      " [ 0.    0.3   0.    0.35  0.35  0.    0.  ]\n",
      " [ 0.    0.    0.    0.    0.    0.5   0.5 ]]\n",
      "\n",
      "topics found:\n",
      "['zon' 'broccoli']\n",
      "['ijs' 'chocola']\n",
      "['strand' 'vanille' 'wortel']\n",
      "\n",
      "topics real\n",
      "['zon' 'ijs' 'strand']\n",
      "['ijs' 'vanille' 'chocola']\n",
      "['broccoli' 'wortel']\n"
     ]
    }
   ],
   "source": [
    "print 'theta'\n",
    "print 'found'\n",
    "print np.mean(theta, axis=0)\n",
    "print 'real'\n",
    "print real_theta\n",
    "print\n",
    "print 'phi'\n",
    "print 'found'\n",
    "print np.mean(phi, axis=0)\n",
    "print 'real'\n",
    "print real_phi\n",
    "print\n",
    "print 'topics found:'\n",
    "indexes = np.mean(phi, axis=0) > 0.01\n",
    "for index in indexes:\n",
    "    print vocabulary[index]\n",
    "print\n",
    "print 'topics real'\n",
    "indexes = real_phi > 0.01\n",
    "for index in indexes:\n",
    "    print vocabulary[index]"
   ]
  }
 ],
 "metadata": {
  "kernelspec": {
   "display_name": "Python 2",
   "language": "python",
   "name": "python2"
  },
  "language_info": {
   "codemirror_mode": {
    "name": "ipython",
    "version": 2
   },
   "file_extension": ".py",
   "mimetype": "text/x-python",
   "name": "python",
   "nbconvert_exporter": "python",
   "pygments_lexer": "ipython2",
   "version": "2.7.6"
  }
 },
 "nbformat": 4,
 "nbformat_minor": 0
}
