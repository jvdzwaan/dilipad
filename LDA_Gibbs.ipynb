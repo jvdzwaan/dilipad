{
 "cells": [
  {
   "cell_type": "markdown",
   "metadata": {},
   "source": [
    "# LDA using Gibb's sampling\n",
    "\n",
    "Op basis van uitleg in http://u.cs.biu.ac.il/~89-680/darling-lda.pdf\n",
    "\n",
    "Using Gensim functionality\n",
    "\n",
    "Dus we mogen ervan uitgaan dat we een dictionary hebben en bow vectors voor de documenten.\n",
    "Het een en ander aan counts komt dan uit gensim. Maar hoe?\n",
    "\n",
    "Wat hebben we nodig?\n",
    "\n",
    "* The number of words assigned to topic k in document d: $$n_{d;k}$$\n",
    "* The number of times word w is assigned to topic k: $$n_{k;w}$$\n",
    "* The total number of times any word is assigned to topic k: $$n_k$$\n",
    "* Array z which will contain the current topic assignment for each of the N words in the corpus.\n"
   ]
  },
  {
   "cell_type": "code",
   "execution_count": 1,
   "metadata": {
    "collapsed": false
   },
   "outputs": [],
   "source": [
    "# Generate documents\n",
    "import numpy as np\n",
    "\n",
    "length = 100\n",
    "num_topics = 3\n",
    "vocabulary = np.array(['zon', 'ijs', 'strand', 'vanille', 'chocola', 'broccoli', 'wortel'])\n",
    "\n",
    "real_theta = np.array([[0.5, 0.0, 0.5],\n",
    "                       [0.3, 0.3, 0.4],\n",
    "                       [0.1, 0.8, 0.1],\n",
    "                       [0.7, 0.3, 0.0],\n",
    "                       [0.4, 0.4, 0.2]])\n",
    "real_phi = np.array([[0.4, 0.2, 0.4, 0.0, 0.0, 0.0, 0.0],\n",
    "                     [0.0, 0.3, 0.0, 0.35, 0.35, 0.0, 0.0],\n",
    "                     [0.0, 0.0, 0.0, 0.0, 0.0, 0.5, 0.5]])"
   ]
  },
  {
   "cell_type": "code",
   "execution_count": 2,
   "metadata": {
    "collapsed": false
   },
   "outputs": [
    {
     "name": "stdout",
     "output_type": "stream",
     "text": [
      "document 1 ['wortel', 'wortel', 'zon', 'wortel', 'zon', 'strand', 'zon', 'ijs', 'zon', 'strand', 'wortel', 'strand', 'zon', 'strand', 'wortel', 'broccoli', 'ijs', 'wortel', 'strand', 'ijs', 'strand', 'wortel', 'strand', 'broccoli', 'strand', 'wortel', 'broccoli', 'ijs', 'wortel', 'strand', 'strand', 'broccoli', 'strand', 'broccoli', 'zon', 'wortel', 'wortel', 'strand', 'broccoli', 'broccoli', 'zon', 'broccoli', 'ijs', 'strand', 'zon', 'ijs', 'broccoli', 'zon', 'wortel', 'broccoli', 'strand', 'zon', 'zon', 'ijs', 'broccoli', 'zon', 'wortel', 'strand', 'broccoli', 'wortel', 'wortel', 'wortel', 'broccoli', 'broccoli', 'wortel', 'wortel', 'zon', 'wortel', 'strand', 'broccoli', 'zon', 'broccoli', 'wortel', 'wortel', 'wortel', 'ijs', 'wortel', 'ijs', 'ijs', 'wortel', 'strand', 'broccoli', 'strand', 'wortel', 'wortel', 'wortel', 'broccoli', 'zon', 'wortel', 'wortel', 'strand', 'strand', 'broccoli', 'broccoli', 'ijs', 'zon', 'wortel', 'strand', 'wortel', 'wortel']\n",
      "document 2 ['broccoli', 'zon', 'vanille', 'vanille', 'vanille', 'broccoli', 'strand', 'broccoli', 'broccoli', 'broccoli', 'broccoli', 'strand', 'ijs', 'ijs', 'chocola', 'strand', 'broccoli', 'zon', 'ijs', 'broccoli', 'broccoli', 'wortel', 'zon', 'broccoli', 'zon', 'zon', 'chocola', 'wortel', 'broccoli', 'broccoli', 'zon', 'strand', 'zon', 'chocola', 'strand', 'broccoli', 'chocola', 'broccoli', 'vanille', 'ijs', 'broccoli', 'zon', 'zon', 'wortel', 'ijs', 'chocola', 'ijs', 'chocola', 'zon', 'zon', 'ijs', 'zon', 'wortel', 'chocola', 'strand', 'vanille', 'strand', 'strand', 'vanille', 'wortel', 'ijs', 'wortel', 'broccoli', 'strand', 'ijs', 'broccoli', 'chocola', 'chocola', 'ijs', 'wortel', 'broccoli', 'broccoli', 'vanille', 'ijs', 'strand', 'broccoli', 'zon', 'wortel', 'chocola', 'chocola', 'broccoli', 'wortel', 'ijs', 'ijs', 'broccoli', 'strand', 'broccoli', 'ijs', 'strand', 'ijs', 'strand', 'broccoli', 'wortel', 'wortel', 'strand', 'vanille', 'zon', 'chocola', 'vanille', 'broccoli']\n",
      "document 3 ['broccoli', 'chocola', 'ijs', 'ijs', 'zon', 'vanille', 'ijs', 'chocola', 'chocola', 'ijs', 'vanille', 'broccoli', 'ijs', 'chocola', 'vanille', 'vanille', 'broccoli', 'vanille', 'chocola', 'chocola', 'vanille', 'vanille', 'vanille', 'chocola', 'broccoli', 'vanille', 'chocola', 'chocola', 'vanille', 'vanille', 'ijs', 'vanille', 'zon', 'vanille', 'ijs', 'wortel', 'broccoli', 'vanille', 'chocola', 'vanille', 'ijs', 'chocola', 'chocola', 'vanille', 'ijs', 'chocola', 'vanille', 'strand', 'ijs', 'broccoli', 'ijs', 'chocola', 'chocola', 'chocola', 'wortel', 'chocola', 'ijs', 'chocola', 'ijs', 'chocola', 'chocola', 'chocola', 'vanille', 'chocola', 'ijs', 'vanille', 'wortel', 'zon', 'chocola', 'ijs', 'chocola', 'ijs', 'chocola', 'zon', 'vanille', 'wortel', 'vanille', 'ijs', 'chocola', 'strand', 'chocola', 'ijs', 'chocola', 'vanille', 'chocola', 'vanille', 'wortel', 'wortel', 'chocola', 'vanille', 'zon', 'vanille', 'chocola', 'chocola', 'ijs', 'ijs', 'chocola', 'broccoli', 'chocola', 'chocola']\n",
      "document 4 ['chocola', 'chocola', 'ijs', 'zon', 'ijs', 'zon', 'strand', 'ijs', 'strand', 'zon', 'ijs', 'ijs', 'strand', 'zon', 'ijs', 'ijs', 'vanille', 'strand', 'strand', 'strand', 'zon', 'zon', 'zon', 'vanille', 'vanille', 'ijs', 'ijs', 'strand', 'vanille', 'ijs', 'strand', 'strand', 'zon', 'strand', 'zon', 'strand', 'zon', 'zon', 'zon', 'ijs', 'strand', 'ijs', 'chocola', 'strand', 'zon', 'zon', 'strand', 'vanille', 'strand', 'zon', 'chocola', 'zon', 'chocola', 'chocola', 'zon', 'vanille', 'ijs', 'strand', 'strand', 'ijs', 'strand', 'strand', 'strand', 'ijs', 'vanille', 'zon', 'chocola', 'vanille', 'ijs', 'chocola', 'ijs', 'strand', 'ijs', 'ijs', 'strand', 'zon', 'chocola', 'strand', 'zon', 'zon', 'ijs', 'strand', 'strand', 'ijs', 'chocola', 'chocola', 'zon', 'zon', 'zon', 'strand', 'strand', 'vanille', 'chocola', 'strand', 'ijs', 'ijs', 'vanille', 'zon', 'vanille', 'strand']\n",
      "document 5 ['strand', 'ijs', 'zon', 'chocola', 'ijs', 'chocola', 'wortel', 'ijs', 'zon', 'strand', 'wortel', 'broccoli', 'zon', 'zon', 'chocola', 'wortel', 'ijs', 'zon', 'strand', 'vanille', 'ijs', 'zon', 'strand', 'ijs', 'wortel', 'ijs', 'broccoli', 'strand', 'zon', 'chocola', 'ijs', 'wortel', 'strand', 'ijs', 'ijs', 'zon', 'zon', 'vanille', 'vanille', 'ijs', 'ijs', 'ijs', 'strand', 'vanille', 'wortel', 'chocola', 'strand', 'zon', 'strand', 'ijs', 'broccoli', 'chocola', 'ijs', 'ijs', 'wortel', 'ijs', 'chocola', 'zon', 'broccoli', 'zon', 'wortel', 'chocola', 'zon', 'ijs', 'ijs', 'ijs', 'wortel', 'broccoli', 'ijs', 'zon', 'strand', 'zon', 'strand', 'zon', 'vanille', 'broccoli', 'chocola', 'strand', 'chocola', 'chocola', 'vanille', 'ijs', 'vanille', 'chocola', 'strand', 'vanille', 'strand', 'wortel', 'vanille', 'ijs', 'ijs', 'strand', 'broccoli', 'wortel', 'wortel', 'strand', 'strand', 'broccoli', 'zon', 'chocola']\n"
     ]
    }
   ],
   "source": [
    "# generate the corpus\n",
    "corpus = []\n",
    "\n",
    "for m, tm in enumerate(real_theta):\n",
    "    doc = []\n",
    "    for i in range(length):\n",
    "        # sample topic\n",
    "        topic = np.random.multinomial(1, tm)\n",
    "        topic_index = np.where(topic==1)[0][0]\n",
    "        word = np.random.multinomial(1, real_phi[topic_index])\n",
    "        doc.append(vocabulary[np.where(word==1)[0][0]])\n",
    "    corpus.append(doc)\n",
    "    \n",
    "for i, doc in enumerate(corpus):\n",
    "    print 'document', i+1, doc\n",
    "\n"
   ]
  },
  {
   "cell_type": "code",
   "execution_count": 3,
   "metadata": {
    "collapsed": false
   },
   "outputs": [],
   "source": [
    "from gensim import corpora\n",
    "\n",
    "d = corpora.Dictionary(corpus)"
   ]
  },
  {
   "cell_type": "code",
   "execution_count": 4,
   "metadata": {
    "collapsed": false
   },
   "outputs": [
    {
     "name": "stdout",
     "output_type": "stream",
     "text": [
      "{(0, 86): 2, (3, 35): 0, (4, 36): 0, (2, 84): 1, (0, 76): 0, (4, 66): 0, (1, 64): 0, (2, 78): 2, (0, 98): 2, (3, 86): 1, (0, 17): 2, (1, 28): 1, (2, 27): 1, (0, 55): 0, (3, 2): 2, (1, 54): 1, (4, 5): 1, (2, 53): 1, (0, 45): 2, (3, 40): 0, (1, 40): 1, (4, 35): 2, (2, 47): 0, (0, 67): 2, (4, 73): 1, (1, 89): 0, (2, 73): 1, (3, 95): 2, (4, 87): 2, (2, 99): 1, (1, 21): 1, (2, 18): 2, (0, 14): 1, (3, 11): 0, (1, 15): 0, (4, 12): 2, (2, 12): 1, (0, 36): 0, (3, 17): 1, (1, 33): 2, (4, 42): 0, (2, 38): 1, (0, 90): 0, (3, 55): 1, (4, 48): 2, (1, 82): 0, (2, 64): 1, (3, 68): 1, (4, 94): 0, (0, 5): 1, (1, 0): 1, (4, 11): 1, (2, 7): 0, (0, 59): 0, (3, 22): 0, (1, 58): 2, (4, 17): 0, (2, 33): 2, (0, 81): 2, (3, 60): 0, (4, 63): 1, (2, 91): 0, (3, 77): 0, (4, 69): 1, (1, 77): 2, (3, 83): 1, (4, 99): 2, (0, 28): 0, (1, 25): 0, (2, 30): 2, (0, 50): 0, (3, 31): 0, (1, 51): 0, (4, 24): 1, (2, 56): 0, (0, 40): 1, (3, 37): 2, (4, 38): 0, (2, 82): 0, (0, 78): 2, (4, 76): 0, (1, 70): 0, (2, 76): 0, (3, 88): 1, (0, 19): 0, (1, 18): 0, (2, 25): 0, (0, 9): 0, (3, 4): 2, (1, 52): 0, (4, 7): 1, (2, 51): 2, (0, 47): 1, (3, 42): 2, (1, 46): 0, (4, 45): 2, (2, 45): 1, (0, 69): 2, (3, 48): 0, (4, 75): 2, (1, 95): 0, (2, 71): 2, (3, 65): 2, (4, 81): 0, (2, 97): 1, (2, 16): 1, (0, 0): 0, (3, 13): 0, (1, 13): 2, (4, 14): 1, (2, 10): 0, (0, 38): 0, (3, 19): 0, (1, 39): 2, (4, 20): 0, (2, 36): 1, (0, 92): 2, (3, 57): 0, (4, 50): 0, (1, 80): 2, (2, 94): 2, (3, 70): 2, (4, 88): 0, (1, 74): 2, (0, 7): 1, (1, 6): 1, (2, 5): 0, (0, 61): 2, (3, 24): 0, (1, 56): 1, (4, 19): 0, (2, 63): 2, (0, 83): 0, (3, 62): 0, (4, 57): 2, (2, 89): 1, (0, 73): 0, (3, 79): 1, (4, 71): 1, (1, 67): 0, (3, 85): 1, (0, 30): 1, (1, 31): 2, (2, 28): 2, (0, 52): 0, (3, 1): 1, (1, 49): 2, (4, 26): 2, (2, 54): 2, (0, 42): 2, (3, 39): 2, (1, 43): 0, (4, 32): 2, (2, 80): 0, (0, 64): 1, (4, 78): 1, (1, 68): 0, (2, 74): 0, (3, 90): 0, (4, 84): 1, (0, 21): 0, (3, 96): 1, (1, 16): 1, (2, 23): 2, (0, 11): 2, (3, 6): 2, (1, 10): 2, (4, 1): 2, (2, 49): 0, (0, 33): 1, (3, 44): 2, (1, 44): 0, (4, 47): 0, (2, 43): 2, (0, 71): 1, (3, 50): 2, (4, 53): 1, (1, 93): 1, (2, 69): 0, (3, 67): 2, (4, 83): 2, (0, 2): 2, (3, 15): 2, (1, 3): 2, (4, 8): 2, (2, 8): 2, (0, 56): 0, (3, 21): 0, (1, 37): 2, (4, 22): 0, (2, 34): 1, (0, 94): 2, (3, 59): 2, (4, 60): 1, (1, 86): 0, (2, 92): 1, (3, 72): 0, (4, 90): 0, (1, 72): 1, (4, 96): 2, (1, 98): 0, (0, 25): 2, (1, 4): 0, (2, 3): 0, (0, 63): 0, (3, 26): 0, (1, 62): 1, (4, 29): 1, (2, 61): 0, (0, 85): 0, (3, 32): 0, (4, 59): 0, (2, 87): 1, (0, 75): 2, (4, 65): 1, (1, 65): 2, (0, 97): 1, (3, 87): 2, (0, 16): 2, (1, 29): 0, (2, 26): 1, (0, 54): 2, (3, 3): 0, (1, 55): 0, (4, 4): 0, (2, 52): 0, (0, 44): 1, (3, 41): 0, (1, 41): 1, (4, 34): 1, (2, 46): 0, (0, 66): 2, (4, 72): 2, (1, 90): 0, (2, 72): 1, (3, 92): 1, (4, 86): 0, (2, 98): 1, (0, 23): 0, (3, 98): 1, (1, 22): 0, (2, 21): 1, (0, 13): 0, (3, 8): 2, (1, 8): 1, (4, 3): 2, (2, 15): 1, (0, 35): 2, (3, 46): 0, (1, 34): 1, (4, 41): 1, (2, 41): 1, (0, 89): 2, (3, 52): 0, (4, 55): 1, (1, 83): 1, (2, 67): 0, (3, 69): 2, (4, 93): 2, (0, 4): 0, (1, 1): 2, (4, 10): 0, (2, 6): 0, (0, 58): 2, (3, 23): 2, (1, 59): 0, (4, 16): 0, (2, 32): 0, (0, 80): 2, (3, 61): 1, (4, 62): 1, (1, 84): 2, (2, 90): 2, (3, 74): 2, (4, 68): 0, (1, 78): 0, (3, 80): 1, (4, 98): 1, (1, 96): 0, (0, 27): 2, (1, 26): 2, (2, 1): 2, (0, 49): 2, (3, 28): 1, (1, 60): 2, (4, 31): 2, (2, 59): 2, (0, 87): 1, (3, 34): 0, (4, 37): 1, (2, 85): 1, (0, 77): 2, (4, 67): 1, (1, 71): 0, (2, 79): 0, (0, 99): 1, (3, 89): 0, (0, 18): 0, (1, 19): 2, (2, 24): 1, (0, 8): 0, (3, 5): 1, (1, 53): 1, (4, 6): 0, (2, 50): 2, (0, 46): 2, (3, 43): 0, (1, 47): 1, (4, 44): 0, (2, 44): 2, (0, 68): 2, (3, 49): 1, (4, 74): 0, (1, 88): 1, (2, 70): 2, (3, 94): 0, (4, 80): 0, (2, 96): 1, (1, 20): 1, (2, 19): 0, (0, 15): 0, (3, 10): 0, (1, 14): 1, (4, 13): 1, (2, 13): 2, (0, 37): 2, (3, 16): 0, (1, 32): 2, (4, 43): 1, (2, 39): 0, (0, 91): 1, (3, 54): 2, (4, 49): 0, (1, 81): 0, (2, 65): 0, (3, 71): 0, (4, 95): 2, (1, 75): 2, (0, 6): 1, (1, 7): 1, (2, 4): 1, (0, 60): 0, (3, 25): 0, (1, 57): 0, (4, 18): 0, (2, 62): 2, (0, 82): 0, (3, 63): 2, (4, 56): 2, (2, 88): 1, (0, 72): 1, (3, 76): 0, (4, 70): 2, (1, 76): 0, (3, 82): 1, (0, 29): 2, (1, 24): 2, (2, 31): 0, (0, 51): 1, (3, 30): 2, (1, 50): 2, (4, 25): 2, (2, 57): 0, (0, 41): 0, (3, 36): 0, (4, 39): 1, (2, 83): 2, (0, 79): 0, (4, 77): 0, (1, 69): 1, (2, 77): 2, (3, 91): 0, (0, 20): 1, (3, 97): 2, (1, 17): 0, (2, 22): 0, (0, 10): 1, (3, 7): 0, (1, 11): 2, (4, 0): 0, (2, 48): 2, (0, 32): 0, (3, 45): 2, (1, 45): 1, (4, 46): 2, (2, 42): 0, (0, 70): 1, (3, 51): 1, (4, 52): 0, (1, 94): 0, (2, 68): 0, (3, 64): 0, (4, 82): 1, (2, 17): 0, (0, 1): 2, (3, 12): 2, (1, 12): 2, (4, 15): 0, (2, 11): 1, (0, 39): 2, (3, 18): 2, (1, 38): 2, (4, 21): 0, (2, 37): 0, (0, 93): 1, (3, 56): 0, (4, 51): 2, (1, 87): 0, (2, 95): 2, (3, 73): 1, (4, 89): 1, (1, 73): 1, (1, 99): 1, (0, 24): 0, (1, 5): 2, (2, 2): 1, (0, 62): 2, (3, 27): 0, (1, 63): 0, (4, 28): 1, (2, 60): 2, (0, 84): 1, (3, 33): 1, (4, 58): 2, (2, 86): 2, (0, 74): 1, (3, 78): 1, (4, 64): 0, (1, 66): 1, (0, 96): 1, (3, 84): 2, (0, 31): 0, (1, 30): 0, (2, 29): 1, (0, 53): 0, (3, 0): 2, (1, 48): 2, (4, 27): 1, (2, 55): 0, (0, 43): 1, (3, 38): 2, (1, 42): 0, (4, 33): 0, (2, 81): 1, (0, 65): 1, (4, 79): 0, (1, 91): 0, (2, 75): 0, (3, 93): 1, (4, 85): 2, (0, 22): 2, (3, 99): 0, (1, 23): 1, (2, 20): 2, (0, 12): 0, (3, 9): 1, (1, 9): 0, (4, 2): 2, (2, 14): 2, (0, 34): 0, (3, 47): 1, (1, 35): 0, (4, 40): 1, (2, 40): 0, (0, 88): 0, (3, 53): 1, (4, 54): 1, (1, 92): 2, (2, 66): 2, (3, 66): 2, (4, 92): 0, (0, 3): 0, (3, 14): 1, (1, 2): 2, (4, 9): 0, (2, 9): 1, (0, 57): 2, (3, 20): 1, (1, 36): 1, (4, 23): 2, (2, 35): 1, (0, 95): 1, (3, 58): 2, (4, 61): 1, (1, 85): 2, (2, 93): 2, (3, 75): 2, (4, 91): 1, (1, 79): 1, (3, 81): 2, (4, 97): 1, (1, 97): 2, (0, 26): 0, (1, 27): 2, (2, 0): 2, (0, 48): 2, (3, 29): 0, (1, 61): 0, (4, 30): 2, (2, 58): 2}\n",
      "[[37 27 36]\n",
      " [39 29 32]\n",
      " [34 33 33]\n",
      " [39 28 33]\n",
      " [37 34 29]]\n",
      "500\n",
      "[[28 35 38 26 16 17 26]\n",
      " [27 24 19 14 29 21 17]\n",
      " [22 34 26 14 27 22 18]]\n",
      "500\n",
      "Counter({0: 186, 2: 163, 1: 151})\n"
     ]
    }
   ],
   "source": [
    "# initialize z\n",
    "import random\n",
    "from collections import Counter\n",
    "\n",
    "z = {}\n",
    "ndk = np.zeros((len(corpus), len(real_phi)), dtype=np.int)\n",
    "nkw = np.zeros((len(real_phi), len(vocabulary)), dtype=np.int)\n",
    "nk = Counter()\n",
    "\n",
    "for d, doc in enumerate(corpus):\n",
    "    for i, word in enumerate(doc):\n",
    "        t = random.randint(0,2)\n",
    "        z[(d, i)] = t\n",
    "        ndk[d][t] += 1\n",
    "        word_index = np.where(vocabulary==word)[0][0]\n",
    "        nkw[t][word_index] += 1\n",
    "        nk[t] += 1\n",
    "\n",
    "print z\n",
    "print ndk\n",
    "print np.sum(ndk)\n",
    "print nkw\n",
    "print np.sum(nkw)\n",
    "print nk"
   ]
  },
  {
   "cell_type": "code",
   "execution_count": 5,
   "metadata": {
    "collapsed": false
   },
   "outputs": [
    {
     "name": "stdout",
     "output_type": "stream",
     "text": [
      "[[  0 100   0]\n",
      " [ 40  60   0]\n",
      " [  0  28  72]\n",
      " [100   0   0]\n",
      " [ 48  52   0]]\n",
      "[[39 40 43 29 37  0  0]\n",
      " [38 42 40  0  0 60 60]\n",
      " [ 0 11  0 25 35  0  1]]\n",
      "Counter({1: 240, 0: 188, 2: 72})\n"
     ]
    }
   ],
   "source": [
    "# iterate\n",
    "\n",
    "def p_z(alpha, beta, num_topics, num_words, d, topic, word_index):\n",
    "    #print alpha, beta, num_topics, num_words, d, topic, word_index\n",
    "    #print ndk[d][topic], nkw[topic][word_index], nk[topic]\n",
    "    return (ndk[d][topic]*alpha)*(nkw[topic][word_index]+beta)/(nk[topic]+beta*num_words)\n",
    "\n",
    "def normalize(p):\n",
    "    minimum = np.min(p)\n",
    "    maximum = np.max(p)\n",
    "    \n",
    "    if minimum < 0:\n",
    "        return normalize((p - minimum)/(maximum - minimum))\n",
    "    return p/sum(p)\n",
    "\n",
    "num_iter = 100\n",
    "\n",
    "alpha = 0.02\n",
    "beta = 0.02\n",
    "\n",
    "theta = np.zeros((num_iter,  len(corpus), num_topics))\n",
    "phi = np.zeros((num_iter, num_topics, len(vocabulary)))\n",
    "\n",
    "for t in range(num_iter):\n",
    "    for d, doc in enumerate(corpus):\n",
    "        for i, w in enumerate(doc):\n",
    "            word = (d, i)\n",
    "            topic = z[word]\n",
    "                        \n",
    "            word_index = np.where(vocabulary==w)[0][0]\n",
    "                \n",
    "            #if ndk[d][topic] > 0 and nkw[topic][word_index] > 0 and nk[topic] > 0:\n",
    "            if True:\n",
    "                ndk[d][topic] -= 1\n",
    "                nkw[topic][word_index] -= 1\n",
    "                nk[topic] -= 1\n",
    "            \n",
    "                p = [p_z(alpha, beta, len(real_phi), len(vocabulary), d, j, word_index) for j in range(len(real_phi))]\n",
    "                #print p\n",
    "                # normalize\n",
    "                p = normalize(p)\n",
    "                #print p, sum(p)\n",
    "            \n",
    "                to = np.random.multinomial(1, p)\n",
    "                topic = np.where(to==1)[0][0]\n",
    "                \n",
    "                z[word] = topic\n",
    "            \n",
    "                ndk[d][topic] += 1\n",
    "                nkw[topic][word_index] += 1\n",
    "                nk[topic] += 1\n",
    "    # calculate theta and phi\n",
    "    theta[t] = (ndk+float(alpha))/(np.sum(ndk, axis=1, keepdims=True)+num_topics*alpha)\n",
    "    phi[t] = (nkw+float(beta))/(np.sum(nkw, axis=1, keepdims=True)+len(vocabulary)*beta)\n",
    "            #print 'new topic', topic\n",
    "print ndk\n",
    "print nkw\n",
    "print nk"
   ]
  },
  {
   "cell_type": "code",
   "execution_count": 6,
   "metadata": {
    "collapsed": false
   },
   "outputs": [
    {
     "name": "stdout",
     "output_type": "stream",
     "text": [
      "theta\n",
      "found\n",
      "[[ 0.02118729  0.96851889  0.01029382]\n",
      " [ 0.46162303  0.53587847  0.0024985 ]\n",
      " [ 0.0089946   0.20987408  0.78113132]\n",
      " [ 0.97351589  0.00709574  0.01938837]\n",
      " [ 0.57655407  0.35078953  0.07265641]]\n",
      "real\n",
      "[[ 0.5  0.   0.5]\n",
      " [ 0.3  0.3  0.4]\n",
      " [ 0.1  0.8  0.1]\n",
      " [ 0.7  0.3  0. ]\n",
      " [ 0.4  0.4  0.2]]\n",
      "\n",
      "phi\n",
      "found\n",
      "[[ 0.22029314  0.24122749  0.24135615  0.1311584   0.15851712  0.00306462\n",
      "   0.00438308]\n",
      " [ 0.14848169  0.11374624  0.160112    0.00376607  0.00869966  0.28049288\n",
      "   0.28470146]\n",
      " [ 0.01052358  0.22286347  0.00354163  0.30618113  0.43568009  0.01200256\n",
      "   0.00920754]]\n",
      "real\n",
      "[[ 0.4   0.2   0.4   0.    0.    0.    0.  ]\n",
      " [ 0.    0.3   0.    0.35  0.35  0.    0.  ]\n",
      " [ 0.    0.    0.    0.    0.    0.5   0.5 ]]\n",
      "\n",
      "topics found:\n",
      "['zon' 'ijs' 'strand' 'vanille' 'chocola']\n",
      "['zon' 'ijs' 'strand' 'broccoli' 'wortel']\n",
      "['zon' 'ijs' 'vanille' 'chocola' 'broccoli']\n",
      "\n",
      "topics real\n",
      "['zon' 'ijs' 'strand']\n",
      "['ijs' 'vanille' 'chocola']\n",
      "['broccoli' 'wortel']\n"
     ]
    }
   ],
   "source": [
    "print 'theta'\n",
    "print 'found'\n",
    "print np.mean(theta, axis=0)\n",
    "print 'real'\n",
    "print real_theta\n",
    "print\n",
    "print 'phi'\n",
    "print 'found'\n",
    "print np.mean(phi, axis=0)\n",
    "print 'real'\n",
    "print real_phi\n",
    "print\n",
    "print 'topics found:'\n",
    "indexes = np.mean(phi, axis=0) > 0.01\n",
    "for index in indexes:\n",
    "    print vocabulary[index]\n",
    "print\n",
    "print 'topics real'\n",
    "indexes = real_phi > 0.01\n",
    "for index in indexes:\n",
    "    print vocabulary[index]"
   ]
  }
 ],
 "metadata": {
  "kernelspec": {
   "display_name": "Python 2",
   "language": "python",
   "name": "python2"
  },
  "language_info": {
   "codemirror_mode": {
    "name": "ipython",
    "version": 2
   },
   "file_extension": ".py",
   "mimetype": "text/x-python",
   "name": "python",
   "nbconvert_exporter": "python",
   "pygments_lexer": "ipython2",
   "version": "2.7.6"
  }
 },
 "nbformat": 4,
 "nbformat_minor": 0
}
