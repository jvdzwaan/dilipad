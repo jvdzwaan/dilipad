{
 "cells": [
  {
   "cell_type": "markdown",
   "metadata": {},
   "source": [
    "# Gibbs sampling for naive bayes\n",
    "\n",
    "Implementation of the example in paper _Gibbs Sampling for the Uninitiated_"
   ]
  },
  {
   "cell_type": "code",
   "execution_count": 107,
   "metadata": {
    "collapsed": false
   },
   "outputs": [
    {
     "name": "stdout",
     "output_type": "stream",
     "text": [
      "[ 0.3534365   0.02238845  0.16278148  0.3446405   0.11675307] 1.0\n",
      "[ 0.37301648  0.14526872  0.18574284  0.01291135  0.28306062] 1.0\n"
     ]
    }
   ],
   "source": [
    "# Generative model\n",
    "import numpy as np\n",
    "from scipy.stats import dirichlet\n",
    "\n",
    "real_pi = 0.3\n",
    "vocabulary = np.array(['sector', 'twijfels', 'taxivervoer', 'uitgangspunt', 'belangen'])\n",
    "\n",
    "real_theta_zero = np.random.dirichlet(np.ones(len(vocabulary)))\n",
    "real_theta_one = np.random.dirichlet(np.ones(len(vocabulary)))\n",
    "\n",
    "print real_theta_zero, sum(theta_zero)\n",
    "print real_theta_one, sum(theta_one)"
   ]
  },
  {
   "cell_type": "code",
   "execution_count": 108,
   "metadata": {
    "collapsed": false
   },
   "outputs": [
    {
     "name": "stdout",
     "output_type": "stream",
     "text": [
      "1 ['belangen', 'sector', 'sector', 'belangen', 'sector', 'belangen', 'sector', 'belangen', 'sector', 'sector']\n",
      "1 ['belangen', 'sector', 'belangen', 'belangen', 'sector', 'sector', 'taxivervoer', 'twijfels', 'belangen', 'taxivervoer']\n",
      "1 ['taxivervoer', 'sector', 'sector', 'belangen', 'belangen', 'sector', 'sector', 'belangen', 'taxivervoer', 'sector']\n",
      "1 ['sector', 'belangen', 'sector', 'taxivervoer', 'belangen', 'twijfels', 'belangen', 'belangen', 'belangen', 'twijfels']\n",
      "1 ['twijfels', 'belangen', 'taxivervoer', 'twijfels', 'twijfels', 'sector', 'twijfels', 'sector', 'sector', 'belangen']\n",
      "1 ['belangen', 'sector', 'belangen', 'belangen', 'twijfels', 'belangen', 'sector', 'belangen', 'taxivervoer', 'belangen']\n",
      "0 ['sector', 'taxivervoer', 'taxivervoer', 'uitgangspunt', 'twijfels', 'sector', 'sector', 'sector', 'uitgangspunt', 'uitgangspunt']\n",
      "1 ['sector', 'belangen', 'twijfels', 'sector', 'taxivervoer', 'sector', 'twijfels', 'belangen', 'sector', 'sector']\n",
      "1 ['taxivervoer', 'sector', 'sector', 'sector', 'taxivervoer', 'belangen', 'sector', 'sector', 'belangen', 'sector']\n",
      "1 ['belangen', 'twijfels', 'taxivervoer', 'twijfels', 'twijfels', 'taxivervoer', 'belangen', 'sector', 'sector', 'sector']\n"
     ]
    }
   ],
   "source": [
    "# generate documents\n",
    "import random\n",
    "\n",
    "def generate_document(n_words=10):\n",
    "    label = int(random.random() < pi)\n",
    "    \n",
    "    if label == 0:\n",
    "        d = real_theta_zero\n",
    "    else:\n",
    "        d = real_theta_one\n",
    "    \n",
    "    words = []\n",
    "    \n",
    "    for i in range(n_words):\n",
    "        word = np.random.multinomial(1, d)\n",
    "        index = np.where(word==1)[0][0]\n",
    "        words.append(vocabulary[index])\n",
    "    \n",
    "    return (label, words)\n",
    "\n",
    "corpus = [generate_document() for i in range(10)]\n",
    "\n",
    "real_labels = [doc[0] for doc in corpus]\n",
    "\n",
    "documents = [doc[1] for doc in corpus]\n",
    "\n",
    "for doc in corpus:\n",
    "    print doc[0], doc[1]\n"
   ]
  },
  {
   "cell_type": "code",
   "execution_count": 109,
   "metadata": {
    "collapsed": true
   },
   "outputs": [],
   "source": [
    "import operator\n",
    "import functools\n",
    "\n",
    "def get_p(theta, num):\n",
    "    # equation 49\n",
    "    return (num + 1.0 - 1)/(len(corpus) + 1 + 1 -1) * functools.reduce(operator.mul, [pow(float(theta[i]), C[corpus[j][1][i]]) for i in range(len(vocabulary))], 1)\n",
    "    "
   ]
  },
  {
   "cell_type": "code",
   "execution_count": 116,
   "metadata": {
    "collapsed": false
   },
   "outputs": [
    {
     "name": "stdout",
     "output_type": "stream",
     "text": [
      "Initialization\n",
      "0.500304700895\n",
      "[ 0.02174525  0.0181391   0.73945465  0.01253435  0.20812665]\n",
      "[ 0.00832763  0.0152612   0.01704993  0.03044369  0.92891755]\n",
      "[0, 0, 1, 0, 1, 1, 1, 1, 0, 0]\n",
      "Found parameters\n",
      "[ 0.38060674  0.14339653  0.1429708   0.03812048  0.29490545]\n",
      "[ 0.20075403  0.19944209  0.20180688  0.1999485   0.1980485 ]\n",
      "Real parameters\n",
      "[ 0.3534365   0.02238845  0.16278148  0.3446405   0.11675307]\n",
      "[ 0.37301648  0.14526872  0.18574284  0.01291135  0.28306062]\n"
     ]
    }
   ],
   "source": [
    "# gibbs sampling\n",
    "\n",
    "from collections import Counter\n",
    "import sys\n",
    "\n",
    "# initialization\n",
    "print 'Initialization'\n",
    "pi = random.random()\n",
    "print pi\n",
    "\n",
    "theta_zero = np.random.dirichlet(np.ones(len(vocabulary)))\n",
    "theta_one = np.random.dirichlet(np.ones(len(vocabulary)))\n",
    "\n",
    "print theta_zero\n",
    "print theta_one\n",
    "\n",
    "L = [int(random.random() < pi) for i in range(len(corpus))]\n",
    "num_ones = sum(L)\n",
    "num_zeros = len(L) - num_ones\n",
    "\n",
    "print L\n",
    "#print '1:', num_ones\n",
    "#print '0:', num_zeros\n",
    "\n",
    "# count words in documents\n",
    "corpus_0_counts = Counter()\n",
    "corpus_1_counts = Counter()\n",
    "document_counts = []\n",
    "for i in range(len(corpus)):\n",
    "    if L[i] == 0:\n",
    "        corpus_0_counts.update(corpus[i][1])\n",
    "    else:\n",
    "        corpus_1_counts.update(corpus[i][1])\n",
    "        \n",
    "    document_counts.append(Counter(corpus[i][1]))\n",
    "\n",
    "iterations = 10000\n",
    "theta_zeros = np.zeros((iterations, len(theta_zero)))\n",
    "theta_ones = np.zeros((iterations, len(theta_one)))\n",
    "\n",
    "for t in range(0, iterations):\n",
    "    for j in range(0, len(corpus)):\n",
    "        #print 'text', j, 'label', L[j], \n",
    "        label_j = L[j]\n",
    "        if label_j == 0:\n",
    "            corpus_0_counts.subtract(document_counts[j])\n",
    "            C = corpus_0_counts\n",
    "            num_zeros -= 1\n",
    "        else:\n",
    "            corpus_1_counts.subtract(document_counts[j])\n",
    "            C = corpus_1_counts\n",
    "            num_ones -= 1\n",
    "\n",
    "        P_label_0 = get_p(theta_zero, num_zeros)\n",
    "        P_label_1 = get_p(theta_one, num_ones)\n",
    "        \n",
    "        #print P_label_0\n",
    "        #print P_label_1\n",
    "        \n",
    "        P = P_label_0/(P_label_0+P_label_1)\n",
    "        #print P\n",
    "        if P > random.random():\n",
    "            L[j] = 0\n",
    "            num_zeros += 1\n",
    "            corpus_0_counts.update(document_counts[j])\n",
    "            \n",
    "            #print 'New label = 0'\n",
    "        else:\n",
    "            L[j] = 1\n",
    "            num_ones += 1\n",
    "            corpus_1_counts.update(document_counts[j])\n",
    "            #print 'New label = 1'\n",
    "    # resample thetas\n",
    "    wc_0 = [corpus_0_counts[w] + 1 for w in vocabulary]\n",
    "    #print wc_0\n",
    "    theta_zero = np.random.dirichlet(wc_0)\n",
    "    theta_zeros[t] = theta_zero\n",
    "    \n",
    "    wc_1 = [corpus_1_counts[w] + 1 for w in vocabulary]\n",
    "    #print wc_1\n",
    "    theta_one = np.random.dirichlet(wc_1)\n",
    "    theta_ones[t] = theta_one\n",
    "\n",
    "print 'Found parameters'\n",
    "print np.mean(theta_zeros, axis=0)\n",
    "print np.mean(theta_ones, axis=0)\n",
    "\n",
    "print 'Real parameters'\n",
    "print real_theta_zero\n",
    "print real_theta_one"
   ]
  }
 ],
 "metadata": {
  "kernelspec": {
   "display_name": "Python 2",
   "language": "python",
   "name": "python2"
  },
  "language_info": {
   "codemirror_mode": {
    "name": "ipython",
    "version": 2
   },
   "file_extension": ".py",
   "mimetype": "text/x-python",
   "name": "python",
   "nbconvert_exporter": "python",
   "pygments_lexer": "ipython2",
   "version": "2.7.6"
  }
 },
 "nbformat": 4,
 "nbformat_minor": 0
}
