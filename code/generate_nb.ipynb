{
 "cells": [
  {
   "cell_type": "code",
   "execution_count": 13,
   "metadata": {
    "collapsed": false,
    "scrolled": true
   },
   "outputs": [
    {
     "name": "stdout",
     "output_type": "stream",
     "text": [
      "# cells: 23\n",
      "0\n",
      "{u'source': u'# View CPT Results for {}', u'cell_type': u'markdown', u'metadata': {}}\n",
      "\n",
      "1\n",
      "{u'execution_count': None, u'cell_type': u'code', u'source': u\"%matplotlib inline\\n\\nimport matplotlib\\nimport numpy as np\\nimport matplotlib.pyplot as plt\\nimport pandas as pd\\n\\npd.set_option('display.mpl_style', 'default') # Make the graphs a bit prettier\\nplt.rcParams['figure.figsize'] = (10, 7)\", u'outputs': [], u'metadata': {u'collapsed': True}}\n",
      "\n",
      "2\n",
      "{u'source': u'## Topic word perplexity', u'cell_type': u'markdown', u'metadata': {}}\n",
      "\n",
      "3\n",
      "{u'execution_count': None, u'cell_type': u'code', u'source': u\"import os\\n\\ndef load_perplexity_results(results_dir):\\n    perplexity_topic = pd.read_csv(os.path.join(results_dir, 'perplexity_topic.csv'), index_col=0)\\n    perplexity_opinion = pd.read_csv(os.path.join(results_dir, 'perplexity_opinion.csv'), index_col=0)\\n    \\n    return perplexity_topic, perplexity_opinion\", u'outputs': [], u'metadata': {u'collapsed': False}}\n",
      "\n",
      "4\n",
      "{u'execution_count': None, u'cell_type': u'code', u'source': u\"results_dir = '{}'\", u'outputs': [], u'metadata': {u'collapsed': True}}\n",
      "\n",
      "5\n",
      "{u'execution_count': None, u'cell_type': u'code', u'source': u'perplexity_topic, perplexity_opinion = load_perplexity_results(results_dir)\\nperplexity_topic.plot();', u'outputs': [], u'metadata': {u'collapsed': True}}\n",
      "\n",
      "6\n",
      "{u'execution_count': None, u'cell_type': u'code', u'source': u\"# change intervals if needed\\nintervals = ['20', '100', '180', '200']\", u'outputs': [], u'metadata': {u'collapsed': True}}\n",
      "\n",
      "7\n",
      "{u'execution_count': None, u'cell_type': u'code', u'source': u'perplexity_topic[intervals].plot();', u'outputs': [], u'metadata': {u'collapsed': False}}\n",
      "\n",
      "8\n",
      "{u'source': u'## Opinion word perplexity', u'cell_type': u'markdown', u'metadata': {}}\n",
      "\n",
      "9\n",
      "{u'execution_count': None, u'cell_type': u'code', u'source': u'perplexity_opinion.plot();', u'outputs': [], u'metadata': {u'collapsed': False}}\n",
      "\n",
      "10\n",
      "{u'execution_count': None, u'cell_type': u'code', u'source': u'perplexity_opinion[intervals].plot();', u'outputs': [], u'metadata': {u'collapsed': False}}\n",
      "\n",
      "11\n",
      "{u'source': u'## Results for topics and opinions (nTopics = {})', u'cell_type': u'markdown', u'metadata': {}}\n",
      "\n",
      "12\n",
      "{u'execution_count': None, u'cell_type': u'code', u'source': u\"# load results\\nimport glob\\nimport os\\nimport re\\n\\ndef load_experiment_results(nTopics, results_dir):\\n\\n    # document topic matrix (theta)\\n    theta = pd.read_csv(os.path.join(results_dir, 'theta_{}.csv'.format(nTopics)), index_col=0)\\n\\n    # phi topic (transposed)\\n    phi_topic_t = pd.read_csv(os.path.join(results_dir, 'topics_{}.csv'.format(nTopics)), index_col=0, encoding='utf-8')\\n\\n    # phi opinion (transposed) per perspective\\n    opinion_files = glob.glob('{}opinions_*.csv'.format(results_dir))\\n    phis_opinion_t = {}\\n    for f in opinion_files:\\n        m = re.match(r'.+opinions_(.+).csv', f)\\n        name = m.group(1).replace('_{}'.format(nTopics), '')\\n        phis_opinion_t[name] = pd.read_csv(f, index_col=0, encoding='utf-8')\\n    return theta, phi_topic_t, phis_opinion_t\", u'outputs': [], u'metadata': {u'collapsed': False}}\n",
      "\n",
      "13\n",
      "{u'execution_count': None, u'cell_type': u'code', u'source': u'theta, phi_topic_t, phis_opinion_t = load_experiment_results({}, results_dir)', u'outputs': [], u'metadata': {u'collapsed': True}}\n",
      "\n",
      "14\n",
      "{u'source': u\"### 'Weight' of the most important topic per document\\n\\nEach topic has a certain weight in the document. We would like to see one (or a few) topics with high weight per document. Below are some basic statistics on the most important topic (highest weight) per document. \", u'cell_type': u'markdown', u'metadata': {}}\n",
      "\n",
      "15\n",
      "{u'execution_count': None, u'cell_type': u'code', u'source': u\"def print_topic_weights(theta):\\n    a = theta.copy().apply(max, axis=1)\\n    a.sort(ascending=False)\\n\\n    print 'Mean weight of most important topic: {} (std: {})'.format(a.mean(), a.std())\\n    print 'Min and max of most important topic: min: {}, max: {}'.format(a.min(), a.max())\\n    print 'Median weight of most important topic: ', a.median()\\n\\nprint_topic_weights(theta)\", u'outputs': [], u'metadata': {u'scrolled': False, u'collapsed': False}}\n",
      "\n",
      "16\n",
      "{u'source': u'Line graph of the sorted topic weigths:', u'cell_type': u'markdown', u'metadata': {}}\n",
      "\n",
      "17\n",
      "{u'execution_count': None, u'cell_type': u'code', u'source': u'def plot_topic_weights(theta):\\n    theta.copy().apply(lambda row:sorted(row)[::-1], axis=1).transpose().plot(legend=None);\\n\\nplot_topic_weights(theta)', u'outputs': [], u'metadata': {u'collapsed': False}}\n",
      "\n",
      "18\n",
      "{u'source': u'### Number of topics per document\\n\\nThe number of topics per document is calculated by counting the number of topic with weight above a certain threshold. The numer of topics per document should (roughly) be equivalent to the number of ``pm:topic``s per document (however, at the moment we do not have statistics of this).', u'cell_type': u'markdown', u'metadata': {}}\n",
      "\n",
      "19\n",
      "{u'execution_count': None, u'cell_type': u'code', u'source': u'def display_number_of_topics_per_document(theta, threshold=0.05):\\n    topic_counts = theta.apply(lambda row: np.sum(row > threshold), axis=1)\\n    print topic_counts.value_counts(sort=False)\\n    topic_counts.hist(bins=len(topic_counts.value_counts()), figsize=(5,3));\\n\\ndisplay_number_of_topics_per_document(theta)', u'outputs': [], u'metadata': {u'collapsed': False}}\n",
      "\n",
      "20\n",
      "{u'source': u'### Topics', u'cell_type': u'markdown', u'metadata': {}}\n",
      "\n",
      "21\n",
      "{u'execution_count': None, u'cell_type': u'code', u'source': u'def show_topic(t, top=10):\\n    \"\"\"Return dataframe containing <top> topic words, weights of topic words and per perspective opinion words and\\n    weigths of opinion words.\\n    \\n    Parameters\\n        t : str - index of topic number\\n        top : int - the number of words to store in the dataframe\\n    \\n    Returns Pandas DataFrame\\n    \"\"\"\\n    topic = phi_topic_t[t].copy()\\n    topic.sort(ascending=False)\\n    topic = topic[0:top]\\n    df_t = pd.DataFrame(topic)\\n    df_t.reset_index(level=0, inplace=True)\\n    df_t.columns = [\\'topic_{}\\'.format(t), \\'weights_topic_{}\\'.format(t)]\\n\\n    dfs = [df_t]\\n\\n    for p, o in phis_opinion_t.iteritems():\\n        opinion = o[t].copy()\\n        opinion.sort(ascending=False)\\n        opinion = opinion[0:top]\\n        df_o = pd.DataFrame(opinion)\\n        df_o.reset_index(level=0, inplace=True)\\n        df_o.columns = [\\'opinion_{}_{}\\'.format(t, p), \\'weights_opinion_{}_{}\\'.format(t, p)]\\n        dfs.append(df_o)\\n        \\n    return pd.concat(dfs, axis=1)\\n\\ndef print_topics(phi_topic_t, phis_opinion_t, nTopics):\\n    for i in range(nTopics):\\n        pLabels = [\\'opinion_{}_{}\\'.format(i, p) for p, o in phis_opinion_t.iteritems()]\\n        print show_topic(str(i))[[\\'topic_{}\\'.format(i)] + pLabels]', u'outputs': [], u'metadata': {u'collapsed': False}}\n",
      "\n",
      "22\n",
      "{u'execution_count': None, u'cell_type': u'code', u'source': u'print_topics(phi_topic_t, phis_opinion_t, {})', u'outputs': [], u'metadata': {u'collapsed': True}}\n",
      "\n"
     ]
    }
   ],
   "source": [
    "from IPython import nbformat as nbf\n",
    "\n",
    "with open('/home/jvdzwaan/code/DilipadTopicModelling/data/CPT_results_template.ipynb') as f:\n",
    "    nb = nbf.read(f, 4)\n",
    "print '# cells:', len(nb['cells'])\n",
    "for i, cell in enumerate(nb['cells']):\n",
    "    print i\n",
    "    print cell\n",
    "    print"
   ]
  }
 ],
 "metadata": {
  "kernelspec": {
   "display_name": "Python 2",
   "language": "python",
   "name": "python2"
  },
  "language_info": {
   "codemirror_mode": {
    "name": "ipython",
    "version": 2
   },
   "file_extension": ".py",
   "mimetype": "text/x-python",
   "name": "python",
   "nbconvert_exporter": "python",
   "pygments_lexer": "ipython2",
   "version": "2.7.6"
  }
 },
 "nbformat": 4,
 "nbformat_minor": 0
}
