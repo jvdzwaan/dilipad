{
 "cells": [
  {
   "cell_type": "markdown",
   "metadata": {},
   "source": [
    "#Do LDA in Gensim using nouns from Ducth Folia data"
   ]
  },
  {
   "cell_type": "code",
   "execution_count": 1,
   "metadata": {
    "collapsed": false
   },
   "outputs": [],
   "source": [
    "from lxml import etree\n",
    "import gzip\n",
    "import os\n",
    "import logging\n",
    "\n",
    "logging.basicConfig(format='%(levelname)s : %(message)s', level=logging.INFO)\n",
    "logging.root.level = logging.INFO  # ipython sometimes messes up the logging setup; restore\n",
    "\n",
    "class DilipadFolia(object):\n",
    "    def __init__(self, dir_name):\n",
    "        self.dir_name = dir_name\n",
    "        \n",
    "        self.NUMBER = 100\n",
    "    \n",
    "    def __iter__(self):\n",
    "        word_tag = '{http://ilk.uvt.nl/FoLiA}w'\n",
    "        pos_tag = '{http://ilk.uvt.nl/FoLiA}pos'\n",
    "        t_tag = '{http://ilk.uvt.nl/FoLiA}t'\n",
    "\n",
    "        data_files = [d for d in os.listdir(self.dir_name) if d.endswith('.xml.gz')]\n",
    "        logging.info('Extracting nouns from {} documents.'.format(len(data_files)))\n",
    "        for i, data_file in enumerate(data_files):\n",
    "            nouns = []\n",
    "            xml_file = os.path.join(self.dir_name, data_file)\n",
    "            if i % self.NUMBER == 0:\n",
    "                logging.info('Extracting nouns from document #{} (\\'{}\\')'.format(i, xml_file))\n",
    "            f = gzip.open(xml_file)\n",
    "            context = etree.iterparse(f, events=('end',), tag=word_tag, huge_tree=True)\n",
    "            for event, elem in context:\n",
    "                pos = elem.find(pos_tag).attrib.get('class')\n",
    "                if pos == 'N':\n",
    "                    noun = elem.find(t_tag).text.lower()\n",
    "                    nouns.append(noun)\n",
    "            if i % self.NUMBER == 0:\n",
    "                logging.info('Extracted {} nouns'.format(len(nouns)))\n",
    "            del context\n",
    "            f.close()\n",
    "            yield nouns"
   ]
  },
  {
   "cell_type": "code",
   "execution_count": 3,
   "metadata": {
    "collapsed": true
   },
   "outputs": [],
   "source": [
    "data_dir = '/home/jvdzwaan/data/dilipad'\n",
    "\n",
    "data = DilipadFolia(data_dir)"
   ]
  },
  {
   "cell_type": "code",
   "execution_count": 4,
   "metadata": {
    "collapsed": false
   },
   "outputs": [
    {
     "name": "stderr",
     "output_type": "stream",
     "text": [
      "INFO:root:Extracting nouns from 1353 documents.\n",
      "INFO:root:Extracting words from document #0 ('/home/jvdzwaan/data/dilipad/nl.proc.ob.d.h-ek-19992000-877-907.xml.gz')\n",
      "INFO:root:Extracted 16273 words\n",
      "INFO:root:Extracting words from document #100 ('/home/jvdzwaan/data/dilipad/nl.proc.ob.d.h-tk-19992000-6553-6569.xml.gz')\n",
      "INFO:root:Extracted 8921 words\n",
      "INFO:root:Extracting words from document #200 ('/home/jvdzwaan/data/dilipad/nl.proc.ob.d.h-tk-19992000-1634-1644.xml.gz')\n",
      "INFO:root:Extracted 4778 words\n",
      "INFO:root:Extracting words from document #300 ('/home/jvdzwaan/data/dilipad/nl.proc.ob.d.h-ek-19992000-773-773-1.xml.gz')\n",
      "INFO:root:Extracted 17 words\n",
      "INFO:root:Extracting words from document #400 ('/home/jvdzwaan/data/dilipad/nl.proc.ob.d.h-ek-19992000-1467-1467-1.xml.gz')\n",
      "INFO:root:Extracted 52 words\n",
      "INFO:root:Extracting words from document #500 ('/home/jvdzwaan/data/dilipad/nl.proc.ob.d.h-tk-19992000-4973-5002.xml.gz')\n",
      "INFO:root:Extracted 14780 words\n",
      "INFO:root:Extracting words from document #600 ('/home/jvdzwaan/data/dilipad/nl.proc.ob.d.h-tk-19992000-2347-2347-2.xml.gz')\n",
      "INFO:root:Extracted 34 words\n",
      "INFO:root:Extracting words from document #700 ('/home/jvdzwaan/data/dilipad/nl.proc.ob.d.h-ek-19992000-507-507.xml.gz')\n",
      "INFO:root:Extracted 81 words\n",
      "INFO:root:Extracting words from document #800 ('/home/jvdzwaan/data/dilipad/nl.proc.ob.d.h-tk-19992000-6476-6491.xml.gz')\n",
      "INFO:root:Extracted 8558 words\n",
      "INFO:root:Extracting words from document #900 ('/home/jvdzwaan/data/dilipad/nl.proc.ob.d.h-ek-19992000-1166-1190.xml.gz')\n",
      "INFO:root:Extracted 13121 words\n",
      "INFO:root:Extracting words from document #1000 ('/home/jvdzwaan/data/dilipad/nl.proc.ob.d.h-tk-19992000-2059-2059.xml.gz')\n",
      "INFO:root:Extracted 171 words\n",
      "INFO:root:Extracting words from document #1100 ('/home/jvdzwaan/data/dilipad/nl.proc.ob.d.h-tk-19992000-3418-3418.xml.gz')\n",
      "INFO:root:Extracted 121 words\n",
      "INFO:root:Extracting words from document #1200 ('/home/jvdzwaan/data/dilipad/nl.proc.ob.d.h-tk-19992000-6109-6110.xml.gz')\n",
      "INFO:root:Extracted 157 words\n",
      "INFO:root:Extracting words from document #1300 ('/home/jvdzwaan/data/dilipad/nl.proc.ob.d.h-tk-19992000-3589-3602.xml.gz')\n",
      "INFO:root:Extracted 6464 words\n"
     ]
    },
    {
     "name": "stdout",
     "output_type": "stream",
     "text": [
      "CPU times: user 27min 17s, sys: 9.29 s, total: 27min 26s\n",
      "Wall time: 27min 30s\n"
     ]
    }
   ],
   "source": [
    "# save topic words (nouns) and opinion words (adjectives, verbs, adverbs) to text files\n",
    "# to do: distinguish perspectives\n",
    "import codecs\n",
    "\n",
    "def save_topic_and_opinion_words():\n",
    "    NUMBER = 100\n",
    "\n",
    "    data_dir = '/home/jvdzwaan/data/dilipad'\n",
    "    text_dir = '{}/txt-topic-opinion'.format(data_dir)\n",
    "\n",
    "    word_tag = '{http://ilk.uvt.nl/FoLiA}w'\n",
    "    pos_tag = '{http://ilk.uvt.nl/FoLiA}pos'\n",
    "    t_tag = '{http://ilk.uvt.nl/FoLiA}t'\n",
    "\n",
    "    data_files = [d for d in os.listdir(data_dir) if d.endswith('.xml.gz')]\n",
    "    logging.info('Extracting words from {} documents.'.format(len(data_files)))\n",
    "    for i, data_file in enumerate(data_files):\n",
    "        topic_words = []\n",
    "        opinion_words = []\n",
    "\n",
    "        xml_file = os.path.join(data_dir, data_file)\n",
    "        if i % NUMBER == 0:\n",
    "            logging.info('Extracting words from document #{} (\\'{}\\')'.format(i, xml_file))\n",
    "        f = gzip.open(xml_file)\n",
    "        context = etree.iterparse(f, events=('end',), tag=word_tag, huge_tree=True)\n",
    "        for event, elem in context:\n",
    "            pos = elem.find(pos_tag).attrib.get('class')\n",
    "            if pos == 'N':\n",
    "                tw = elem.find(t_tag).text.lower()\n",
    "                topic_words.append(tw)\n",
    "            elif pos == 'ADJ' or pos == 'WW' or pos == 'BW':\n",
    "                ow = elem.find(t_tag).text.lower()\n",
    "                opinion_words.append(ow)\n",
    "        if i % NUMBER == 0:\n",
    "            logging.info('Extracted {} words'.format(len(topic_words)+len(opinion_words)))\n",
    "        del context\n",
    "        f.close()\n",
    "        with codecs.open(os.path.join(text_dir, '{}-topic_words.txt'.format(data_file)), 'wb', 'utf8') as f:\n",
    "            f.write('\\n'.join(topic_words))\n",
    "        with codecs.open(os.path.join(text_dir, '{}-opinion_words.txt'.format(data_file)), 'wb', 'utf8') as f:\n",
    "            f.write('\\n'.join(opinion_words))\n",
    "                    \n",
    "%time save_topic_and_opinion_words()"
   ]
  },
  {
   "cell_type": "code",
   "execution_count": 6,
   "metadata": {
    "collapsed": false
   },
   "outputs": [
    {
     "name": "stderr",
     "output_type": "stream",
     "text": [
      "INFO:root:Extracting words from 1353 documents.\n",
      "INFO:root:Extracting words from document #0 ('/home/jvdzwaan/data/dilipad/nl.proc.ob.d.h-ek-19992000-877-907.xml.gz')\n"
     ]
    },
    {
     "name": "stdout",
     "output_type": "stream",
     "text": [
      "Pastoor CDA\n",
      "Van Gennip CDA\n",
      "Ketting VVD\n",
      "De Beer VVD\n",
      "Pitstra GroenLinks\n",
      "Van der Lans GroenLinks\n",
      "Meindertsma PvdA\n",
      "Rabbinge PvdA\n",
      "Van Gennip CDA\n",
      "Rabbinge PvdA\n",
      "Van der Lans GroenLinks\n",
      "Rabbinge PvdA\n",
      "Van der Lans GroenLinks\n",
      "Rabbinge PvdA\n",
      "Van Bruchem RPF/GPV\n",
      "De Beer VVD\n",
      "Van Bruchem RPF/GPV\n",
      "Hessing D66\n",
      "Bierman OSF\n",
      "De Beer VVD\n",
      "Bierman OSF\n"
     ]
    },
    {
     "ename": "SystemExit",
     "evalue": "",
     "output_type": "error",
     "traceback": [
      "An exception has occurred, use %tb to see the full traceback.\n",
      "\u001b[1;31mSystemExit\u001b[0m\n"
     ]
    },
    {
     "name": "stderr",
     "output_type": "stream",
     "text": [
      "To exit: use 'exit', 'quit', or Ctrl-D.\n"
     ]
    }
   ],
   "source": [
    "import sys\n",
    "\n",
    "def save_topic_and_opinion_words_perspectives():\n",
    "    NUMBER = 5\n",
    "\n",
    "    data_dir = '/home/jvdzwaan/data/dilipad'\n",
    "    text_dir = '{}/txt-topic-opinion'.format(data_dir)\n",
    "\n",
    "    word_tag = '{http://ilk.uvt.nl/FoLiA}w'\n",
    "    pos_tag = '{http://ilk.uvt.nl/FoLiA}pos'\n",
    "    t_tag = '{http://ilk.uvt.nl/FoLiA}t'\n",
    "    speech_tag = '{http://www.politicalmashup.nl}speech'\n",
    "    speaker_tag = '{http://www.politicalmashup.nl}speaker'\n",
    "    party_tag = '{http://www.politicalmashup.nl}party'\n",
    "\n",
    "    data_files = [d for d in os.listdir(data_dir) if d.endswith('.xml.gz')]\n",
    "    logging.info('Extracting words from {} documents.'.format(len(data_files)))\n",
    "    for i, data_file in enumerate(data_files):\n",
    "        topic_words = []\n",
    "        opinion_words = []\n",
    "\n",
    "        xml_file = os.path.join(data_dir, data_file)\n",
    "        if i % NUMBER == 0:\n",
    "            logging.info('Extracting words from document #{} (\\'{}\\')'.format(i, xml_file))\n",
    "        f = gzip.open(xml_file)\n",
    "        context = etree.iterparse(f, events=('end',), tag=speech_tag, huge_tree=True)\n",
    "        for event, elem in context:\n",
    "            print elem.attrib.get(speaker_tag), elem.attrib.get(party_tag)\n",
    "        if i % NUMBER == 0:\n",
    "            sys.exit()\n",
    "                    \n",
    "%time save_topic_and_opinion_words_perspectives()"
   ]
  },
  {
   "cell_type": "markdown",
   "metadata": {},
   "source": [
    "If iterparse chokes on XML (error message: XMLSyntaxError: ID XXXXXXXXXXX already defined), restart notebook."
   ]
  },
  {
   "cell_type": "code",
   "execution_count": 9,
   "metadata": {
    "collapsed": false
   },
   "outputs": [
    {
     "name": "stderr",
     "output_type": "stream",
     "text": [
      "INFO:root:Extracting nouns from 1353 documents.\n",
      "INFO:root:Extracting nouns from document #0 ('/home/jvdzwaan/data/dilipad/nl.proc.ob.d.h-ek-19992000-877-907.xml.gz')\n",
      "INFO:root:Extracted 6268 nouns\n",
      "INFO:gensim.corpora.dictionary:adding document #0 to Dictionary(0 unique tokens: [])\n",
      "INFO:root:Extracting nouns from document #100 ('/home/jvdzwaan/data/dilipad/nl.proc.ob.d.h-tk-19992000-6553-6569.xml.gz')\n",
      "INFO:root:Extracted 3181 nouns\n",
      "INFO:root:Extracting nouns from document #200 ('/home/jvdzwaan/data/dilipad/nl.proc.ob.d.h-tk-19992000-1634-1644.xml.gz')\n",
      "INFO:root:Extracted 1570 nouns\n",
      "INFO:root:Extracting nouns from document #300 ('/home/jvdzwaan/data/dilipad/nl.proc.ob.d.h-ek-19992000-773-773-1.xml.gz')\n",
      "INFO:root:Extracted 13 nouns\n",
      "INFO:root:Extracting nouns from document #400 ('/home/jvdzwaan/data/dilipad/nl.proc.ob.d.h-ek-19992000-1467-1467-1.xml.gz')\n",
      "INFO:root:Extracted 41 nouns\n",
      "INFO:root:Extracting nouns from document #500 ('/home/jvdzwaan/data/dilipad/nl.proc.ob.d.h-tk-19992000-4973-5002.xml.gz')\n",
      "INFO:root:Extracted 5054 nouns\n",
      "INFO:root:Extracting nouns from document #600 ('/home/jvdzwaan/data/dilipad/nl.proc.ob.d.h-tk-19992000-2347-2347-2.xml.gz')\n",
      "INFO:root:Extracted 25 nouns\n",
      "INFO:root:Extracting nouns from document #700 ('/home/jvdzwaan/data/dilipad/nl.proc.ob.d.h-ek-19992000-507-507.xml.gz')\n",
      "INFO:root:Extracted 55 nouns\n",
      "INFO:root:Extracting nouns from document #800 ('/home/jvdzwaan/data/dilipad/nl.proc.ob.d.h-tk-19992000-6476-6491.xml.gz')\n",
      "INFO:root:Extracted 2911 nouns\n",
      "INFO:root:Extracting nouns from document #900 ('/home/jvdzwaan/data/dilipad/nl.proc.ob.d.h-ek-19992000-1166-1190.xml.gz')\n",
      "INFO:root:Extracted 4789 nouns\n",
      "INFO:root:Extracting nouns from document #1000 ('/home/jvdzwaan/data/dilipad/nl.proc.ob.d.h-tk-19992000-2059-2059.xml.gz')\n",
      "INFO:root:Extracted 88 nouns\n",
      "INFO:root:Extracting nouns from document #1100 ('/home/jvdzwaan/data/dilipad/nl.proc.ob.d.h-tk-19992000-3418-3418.xml.gz')\n",
      "INFO:root:Extracted 54 nouns\n",
      "INFO:root:Extracting nouns from document #1200 ('/home/jvdzwaan/data/dilipad/nl.proc.ob.d.h-tk-19992000-6109-6110.xml.gz')\n",
      "INFO:root:Extracted 77 nouns\n",
      "INFO:root:Extracting nouns from document #1300 ('/home/jvdzwaan/data/dilipad/nl.proc.ob.d.h-tk-19992000-3589-3602.xml.gz')\n",
      "INFO:root:Extracted 2141 nouns\n",
      "INFO:gensim.corpora.dictionary:built Dictionary(58564 unique tokens: [u'gastvrouw', u'baangarantie', u'ontwerprichtlijn', u'programmagidsen', u'betuwelijnen']...) from 1353 documents (total 1492514 corpus positions)\n"
     ]
    },
    {
     "name": "stdout",
     "output_type": "stream",
     "text": [
      "CPU times: user 26min 22s, sys: 1.1 s, total: 26min 23s\n",
      "Wall time: 26min 22s\n"
     ]
    }
   ],
   "source": [
    "import gensim\n",
    "\n",
    "%time id2word_folia = gensim.corpora.Dictionary(data)"
   ]
  },
  {
   "cell_type": "code",
   "execution_count": 11,
   "metadata": {
    "collapsed": false
   },
   "outputs": [
    {
     "name": "stderr",
     "output_type": "stream",
     "text": [
      "INFO:gensim.utils:saving Dictionary object under /home/jvdzwaan/data/dilipad/gensim/folia.dictionary, separately None\n"
     ]
    }
   ],
   "source": [
    "# save dictionary to disk\n",
    "id2word_folia.save('/home/jvdzwaan/data/dilipad/gensim/folia.dictionary')"
   ]
  },
  {
   "cell_type": "code",
   "execution_count": 4,
   "metadata": {
    "collapsed": false
   },
   "outputs": [],
   "source": [
    "import gensim\n",
    "id2word_folia = gensim.corpora.Dictionary.load('/home/jvdzwaan/data/dilipad/gensim/folia.dictionary')"
   ]
  },
  {
   "cell_type": "code",
   "execution_count": 24,
   "metadata": {
    "collapsed": true
   },
   "outputs": [],
   "source": [
    "import itertools\n",
    "\n",
    "class FoliaCorpus:\n",
    "    def __init__(self, dir_name, dictionary):\n",
    "        self.dir_name = dir_name\n",
    "        self.dictionary = dictionary\n",
    "        self.df = DilipadFolia(dir_name)\n",
    "    \n",
    "    def __iter__(self):\n",
    "        it = iter(self.df)\n",
    "        for doc in it:\n",
    "            yield self.dictionary.doc2bow(doc)"
   ]
  },
  {
   "cell_type": "code",
   "execution_count": 25,
   "metadata": {
    "collapsed": false
   },
   "outputs": [],
   "source": [
    "folia_corpus = FoliaCorpus(data_dir, id2word_folia)"
   ]
  },
  {
   "cell_type": "code",
   "execution_count": 26,
   "metadata": {
    "collapsed": false,
    "scrolled": true
   },
   "outputs": [
    {
     "name": "stderr",
     "output_type": "stream",
     "text": [
      "INFO:gensim.corpora.mmcorpus:storing corpus in Matrix Market format to /home/jvdzwaan/data/dilipad/gensim/folia_bow.mm\n",
      "INFO:gensim.matutils:saving sparse matrix to /home/jvdzwaan/data/dilipad/gensim/folia_bow.mm\n",
      "INFO:root:Extracting nouns from 1353 documents.\n",
      "INFO:root:Extracting nouns from document #0 ('/home/jvdzwaan/data/dilipad/nl.proc.ob.d.h-ek-19992000-877-907.xml.gz')\n",
      "INFO:root:Extracted 6268 nouns\n",
      "INFO:gensim.matutils:PROGRESS: saving document #0\n",
      "INFO:root:Extracting nouns from document #100 ('/home/jvdzwaan/data/dilipad/nl.proc.ob.d.h-tk-19992000-6553-6569.xml.gz')\n",
      "INFO:root:Extracted 3181 nouns\n",
      "INFO:root:Extracting nouns from document #200 ('/home/jvdzwaan/data/dilipad/nl.proc.ob.d.h-tk-19992000-1634-1644.xml.gz')\n",
      "INFO:root:Extracted 1570 nouns\n",
      "INFO:root:Extracting nouns from document #300 ('/home/jvdzwaan/data/dilipad/nl.proc.ob.d.h-ek-19992000-773-773-1.xml.gz')\n",
      "INFO:root:Extracted 13 nouns\n",
      "INFO:root:Extracting nouns from document #400 ('/home/jvdzwaan/data/dilipad/nl.proc.ob.d.h-ek-19992000-1467-1467-1.xml.gz')\n",
      "INFO:root:Extracted 41 nouns\n",
      "INFO:root:Extracting nouns from document #500 ('/home/jvdzwaan/data/dilipad/nl.proc.ob.d.h-tk-19992000-4973-5002.xml.gz')\n",
      "INFO:root:Extracted 5054 nouns\n",
      "INFO:root:Extracting nouns from document #600 ('/home/jvdzwaan/data/dilipad/nl.proc.ob.d.h-tk-19992000-2347-2347-2.xml.gz')\n",
      "INFO:root:Extracted 25 nouns\n",
      "INFO:root:Extracting nouns from document #700 ('/home/jvdzwaan/data/dilipad/nl.proc.ob.d.h-ek-19992000-507-507.xml.gz')\n",
      "INFO:root:Extracted 55 nouns\n",
      "INFO:root:Extracting nouns from document #800 ('/home/jvdzwaan/data/dilipad/nl.proc.ob.d.h-tk-19992000-6476-6491.xml.gz')\n",
      "INFO:root:Extracted 2911 nouns\n",
      "INFO:root:Extracting nouns from document #900 ('/home/jvdzwaan/data/dilipad/nl.proc.ob.d.h-ek-19992000-1166-1190.xml.gz')\n",
      "INFO:root:Extracted 4789 nouns\n",
      "INFO:root:Extracting nouns from document #1000 ('/home/jvdzwaan/data/dilipad/nl.proc.ob.d.h-tk-19992000-2059-2059.xml.gz')\n",
      "INFO:root:Extracted 88 nouns\n",
      "INFO:gensim.matutils:PROGRESS: saving document #1000\n",
      "INFO:root:Extracting nouns from document #1100 ('/home/jvdzwaan/data/dilipad/nl.proc.ob.d.h-tk-19992000-3418-3418.xml.gz')\n",
      "INFO:root:Extracted 54 nouns\n",
      "INFO:root:Extracting nouns from document #1200 ('/home/jvdzwaan/data/dilipad/nl.proc.ob.d.h-tk-19992000-6109-6110.xml.gz')\n",
      "INFO:root:Extracted 77 nouns\n",
      "INFO:root:Extracting nouns from document #1300 ('/home/jvdzwaan/data/dilipad/nl.proc.ob.d.h-tk-19992000-3589-3602.xml.gz')\n",
      "INFO:root:Extracted 2141 nouns\n",
      "INFO:gensim.matutils:saved 1353x58564 matrix, density=0.595% (471427/79237092)\n",
      "INFO:gensim.corpora.indexedcorpus:saving MmCorpus index to /home/jvdzwaan/data/dilipad/gensim/folia_bow.mm.index\n"
     ]
    },
    {
     "name": "stdout",
     "output_type": "stream",
     "text": [
      "CPU times: user 27min 48s, sys: 1.89 s, total: 27min 50s\n",
      "Wall time: 27min 49s\n"
     ]
    }
   ],
   "source": [
    "%time gensim.corpora.MmCorpus.serialize('/home/jvdzwaan/data/dilipad/gensim/folia_bow.mm', folia_corpus)"
   ]
  },
  {
   "cell_type": "code",
   "execution_count": 2,
   "metadata": {
    "collapsed": false
   },
   "outputs": [],
   "source": [
    "import gensim\n",
    "\n",
    "folia_corpus = gensim.corpora.mmcorpus.MmCorpus('/home/jvdzwaan/data/dilipad/gensim/folia_bow.mm')"
   ]
  },
  {
   "cell_type": "code",
   "execution_count": 7,
   "metadata": {
    "collapsed": false
   },
   "outputs": [],
   "source": [
    "import logging\n",
    "\n",
    "logging.basicConfig(format='%(levelname)s : %(message)s', level=logging.INFO)\n",
    "logging.root.level = logging.INFO  # ipython sometimes messes up the logging setup; restore"
   ]
  },
  {
   "cell_type": "code",
   "execution_count": 11,
   "metadata": {
    "collapsed": false
   },
   "outputs": [
    {
     "name": "stderr",
     "output_type": "stream",
     "text": [
      "INFO:gensim.models.ldamodel:using symmetric alpha at 0.01\n",
      "INFO:gensim.models.ldamodel:using serial LDA version on this node\n",
      "INFO:gensim.models.ldamodel:running online LDA training, 100 topics, 1 passes over the supplied corpus of 1353 documents, updating model once every 1353 documents, evaluating perplexity every 1353 documents, iterating 10000x with a convergence threshold of 0.001000\n",
      "WARNING:gensim.models.ldamodel:too few updates, training might not converge; consider increasing the number of passes or iterations to improve accuracy\n",
      "INFO:gensim.models.ldamodel:-23.652 per-word bound, 13178734.0 perplexity estimate based on a held-out corpus of 1353 documents with 1492514 words\n",
      "INFO:gensim.models.ldamodel:PROGRESS: pass 0, at document #1353/1353\n",
      "INFO:gensim.models.ldamodel:topic #23 (0.010): 0.021*wetsvoorstel + 0.013*heer + 0.010*orde + 0.010*ophouding + 0.009*vraag + 0.009*minister + 0.009*artikel + 0.008*wet + 0.007*voorzitter + 0.007*uur\n",
      "INFO:gensim.models.ldamodel:topic #36 (0.010): 0.000*versmallingen + 0.000*grensgebieden + 0.000*gehandicaptenvervoer + 0.000*gebiedje + 0.000*functiebeperking + 0.000*exploitatiesubsidies + 0.000*exploitatiesubsidieafdekking + 0.000*eindgebruikers + 0.000*eindbeelden + 0.000*droombeeld\n",
      "INFO:gensim.models.ldamodel:topic #75 (0.010): 0.017*heer + 0.013*minister + 0.012*voorzitter + 0.009*wet + 0.009*vraag + 0.008*staatssecretaris + 0.007*jaar + 0.007*mevrouw + 0.007*amendement + 0.006*motie\n",
      "INFO:gensim.models.ldamodel:topic #72 (0.010): 0.028*motie + 0.017*minister + 0.015*heer + 0.014*voorzitter + 0.011*jaar + 0.010*mevrouw + 0.009*orde + 0.007*gemeenten + 0.007*vraag + 0.006*regering\n",
      "INFO:gensim.models.ldamodel:topic #6 (0.010): 0.013*staatssecretaris + 0.010*handel + 0.010*bijlage + 0.009*motie + 0.007*voorzitter + 0.007*heer + 0.007*mevrouw + 0.006*orde + 0.005*minister + 0.005*ivoor\n",
      "INFO:gensim.models.ldamodel:topic #24 (0.010): 0.016*heer + 0.015*minister + 0.012*voorzitter + 0.009*amendement + 0.009*mensen + 0.009*vraag + 0.008*jaar + 0.007*motie + 0.007*aantal + 0.006*stemming\n",
      "INFO:gensim.models.ldamodel:topic #13 (0.010): 0.026*griffienr + 0.026*minister + 0.019*leden + 0.011*staatssecretaris + 0.010*wet + 0.010*belang + 0.009*voorzitter + 0.008*zaken + 0.008*commissie + 0.008*onderwijs\n",
      "INFO:gensim.models.ldamodel:topic #66 (0.010): 0.017*wet + 0.015*heer + 0.014*staatssecretaris + 0.013*voorzitter + 0.010*minister + 0.009*vraag + 0.009*mevrouw + 0.008*amendement + 0.008*artikel + 0.007*wetsvoorstel\n",
      "INFO:gensim.models.ldamodel:topic #5 (0.010): 0.039*minister + 0.012*voorzitter + 0.012*wet + 0.010*wetsvoorstel + 0.010*mevrouw + 0.009*vraag + 0.009*jaar + 0.009*heer + 0.008*amendement + 0.006*punt\n",
      "INFO:gensim.models.ldamodel:topic #42 (0.010): 0.021*commissie + 0.014*wet + 0.013*wijziging + 0.012*aanbeveling + 0.011*wetsvoorstel + 0.010*lid + 0.009*aanbevelingen + 0.009*minister + 0.007*voorzitter + 0.007*politie\n",
      "INFO:gensim.models.ldamodel:topic #95 (0.010): 0.029*minister + 0.024*onderzoek + 0.013*vervoer + 0.010*wet + 0.009*voorzitter + 0.006*sprake + 0.006*commissie + 0.005*markt + 0.005*punt + 0.005*heer\n",
      "INFO:gensim.models.ldamodel:topic #7 (0.010): 0.016*heer + 0.014*wet + 0.014*staatssecretaris + 0.011*voorzitter + 0.009*motie + 0.009*punt + 0.008*regering + 0.007*wetsvoorstel + 0.007*mevrouw + 0.006*aantal\n",
      "INFO:gensim.models.ldamodel:topic #51 (0.010): 0.012*minister + 0.011*vergadering + 0.010*voorzitter + 0.009*orde + 0.008*risico's + 0.007*voorstel + 0.006*problemen + 0.006*overleg + 0.006*aannemer + 0.006*wetsvoorstel\n",
      "INFO:gensim.models.ldamodel:topic #21 (0.010): 0.016*staatssecretaris + 0.015*minister + 0.012*wijziging + 0.011*jaar + 0.011*wet + 0.010*raad + 0.010*wetsvoorstel + 0.007*voorzitter + 0.006*zaken + 0.006*heer\n",
      "INFO:gensim.models.ldamodel:topic #96 (0.010): 0.014*motie + 0.014*voorzitter + 0.012*minister + 0.012*overleg + 0.010*orde + 0.008*verzoek + 0.008*vergadering + 0.008*mevrouw + 0.007*week + 0.007*fracties\n",
      "INFO:gensim.models.ldamodel:topic diff=88.489227, rho=1.000000\n"
     ]
    },
    {
     "name": "stdout",
     "output_type": "stream",
     "text": [
      "CPU times: user 7min 46s, sys: 10min 26s, total: 18min 12s\n",
      "Wall time: 4min 48s\n"
     ]
    }
   ],
   "source": [
    "%time lda = gensim.models.LdaModel(corpus=folia_corpus, num_topics=100, id2word=id2word_folia, iterations=10000)"
   ]
  },
  {
   "cell_type": "code",
   "execution_count": 12,
   "metadata": {
    "collapsed": false
   },
   "outputs": [
    {
     "name": "stderr",
     "output_type": "stream",
     "text": [
      "INFO:root:Found 200 documents.\n",
      "INFO:root:Reading document #0 ('/home/jvdzwaan/data/dilipad/txt-sample/nl.proc.ob.d.h-ek-19992000-951-951.xml.gz.txt')\n",
      "INFO:gensim.corpora.dictionary:adding document #0 to Dictionary(0 unique tokens: [])\n",
      "INFO:root:Reading document #100 ('/home/jvdzwaan/data/dilipad/txt-sample/nl.proc.ob.d.h-ek-19992000-179-198.xml.gz.txt')\n",
      "INFO:gensim.corpora.dictionary:built Dictionary(24850 unique tokens: [u'gastvrouw', u'baangarantie', u'ontwerprichtlijn', u'verdubbeling', u'wisselvalligheden']...) from 200 documents (total 296237 corpus positions)\n"
     ]
    },
    {
     "name": "stdout",
     "output_type": "stream",
     "text": [
      "Create dictionary\n",
      "CPU times: user 480 ms, sys: 11.4 ms, total: 491 ms"
     ]
    },
    {
     "name": "stderr",
     "output_type": "stream",
     "text": [
      "INFO:gensim.models.ldamodel:using symmetric alpha at 0.1\n",
      "INFO:gensim.models.ldamodel:using serial LDA version on this node\n",
      "WARNING:gensim.models.ldamodel:input corpus stream has no len(); counting documents\n",
      "INFO:root:Found 200 documents.\n",
      "INFO:root:Reading document #0 ('/home/jvdzwaan/data/dilipad/txt-sample/nl.proc.ob.d.h-ek-19992000-951-951.xml.gz.txt')\n",
      "INFO:root:Reading document #100 ('/home/jvdzwaan/data/dilipad/txt-sample/nl.proc.ob.d.h-ek-19992000-179-198.xml.gz.txt')\n",
      "INFO:gensim.models.ldamodel:running batch LDA training, 10 topics, 5 passes over the supplied corpus of 200 documents, updating model once every 200 documents, evaluating perplexity every 200 documents, iterating 50x with a convergence threshold of 0.001000\n",
      "WARNING:gensim.models.ldamodel:too few updates, training might not converge; consider increasing the number of passes or iterations to improve accuracy\n",
      "INFO:root:Found 200 documents.\n",
      "INFO:root:Reading document #0 ('/home/jvdzwaan/data/dilipad/txt-sample/nl.proc.ob.d.h-ek-19992000-951-951.xml.gz.txt')\n",
      "INFO:root:Reading document #100 ('/home/jvdzwaan/data/dilipad/txt-sample/nl.proc.ob.d.h-ek-19992000-179-198.xml.gz.txt')\n",
      "INFO:gensim.models.ldamodel:-11.588 per-word bound, 3078.2 perplexity estimate based on a held-out corpus of 200 documents with 296237 words\n",
      "INFO:gensim.models.ldamodel:PROGRESS: pass 0, at document #200/200\n",
      "INFO:gensim.models.ldamodel:topic #0 (0.100): 0.013*minister + 0.011*heer + 0.010*voorzitter + 0.010*griffienr + 0.008*vraag + 0.008*jaar + 0.006*staatssecretaris + 0.006*mensen + 0.006*belang + 0.005*wetsvoorstel\n",
      "INFO:gensim.models.ldamodel:topic #1 (0.100): 0.013*minister + 0.010*heer + 0.008*voorzitter + 0.008*vraag + 0.007*wetsvoorstel + 0.007*staatssecretaris + 0.007*wet + 0.006*jaar + 0.006*aantal + 0.005*beleid\n",
      "INFO:gensim.models.ldamodel:topic #2 (0.100): 0.011*heer + 0.010*voorzitter + 0.010*minister + 0.009*jaar + 0.007*staatssecretaris + 0.006*vraag + 0.005*geval + 0.005*wet + 0.004*wetsvoorstel + 0.004*aantal\n",
      "INFO:gensim.models.ldamodel:topic #3 (0.100): 0.014*minister + 0.009*jaar + 0.009*heer + 0.008*voorzitter + 0.008*vraag + 0.007*wetsvoorstel + 0.006*staatssecretaris + 0.006*aantal + 0.005*griffienr + 0.005*beleid\n",
      "INFO:gensim.models.ldamodel:topic #4 (0.100): 0.019*minister + 0.009*heer + 0.008*jaar + 0.008*voorzitter + 0.007*vraag + 0.006*aantal + 0.005*gemeenten + 0.005*beleid + 0.005*regering + 0.005*wetsvoorstel\n",
      "INFO:gensim.models.ldamodel:topic #5 (0.100): 0.014*minister + 0.010*griffienr + 0.010*heer + 0.007*voorzitter + 0.007*vraag + 0.006*wetsvoorstel + 0.006*belang + 0.005*jaar + 0.005*wet + 0.005*leden\n",
      "INFO:gensim.models.ldamodel:topic #6 (0.100): 0.012*minister + 0.010*staatssecretaris + 0.008*heer + 0.007*voorzitter + 0.007*vraag + 0.006*regering + 0.006*aantal + 0.005*wetsvoorstel + 0.005*beleid + 0.005*onderwijs\n",
      "INFO:gensim.models.ldamodel:topic #7 (0.100): 0.012*minister + 0.009*voorzitter + 0.007*jaar + 0.007*vraag + 0.007*staatssecretaris + 0.006*wet + 0.006*heer + 0.005*aantal + 0.005*wetsvoorstel + 0.005*mensen\n",
      "INFO:gensim.models.ldamodel:topic #8 (0.100): 0.020*minister + 0.010*heer + 0.009*voorzitter + 0.007*vraag + 0.006*staatssecretaris + 0.006*wetsvoorstel + 0.006*mensen + 0.006*regering + 0.005*wet + 0.005*punt\n",
      "INFO:gensim.models.ldamodel:topic #9 (0.100): 0.016*minister + 0.009*voorzitter + 0.008*heer + 0.007*jaar + 0.006*staatssecretaris + 0.006*vraag + 0.006*wet + 0.006*wetsvoorstel + 0.005*regering + 0.005*overheid\n",
      "INFO:gensim.models.ldamodel:topic diff=3.754892, rho=1.000000\n",
      "INFO:root:Found 200 documents.\n",
      "INFO:root:Reading document #0 ('/home/jvdzwaan/data/dilipad/txt-sample/nl.proc.ob.d.h-ek-19992000-951-951.xml.gz.txt')\n",
      "INFO:root:Reading document #100 ('/home/jvdzwaan/data/dilipad/txt-sample/nl.proc.ob.d.h-ek-19992000-179-198.xml.gz.txt')\n",
      "INFO:gensim.models.ldamodel:-8.624 per-word bound, 394.6 perplexity estimate based on a held-out corpus of 200 documents with 296237 words\n",
      "INFO:gensim.models.ldamodel:PROGRESS: pass 1, at document #200/200\n",
      "INFO:gensim.models.ldamodel:topic #0 (0.100): 0.015*griffienr + 0.012*minister + 0.011*heer + 0.010*jaar + 0.009*voorzitter + 0.006*vraag + 0.006*inkomen + 0.006*leden + 0.006*mensen + 0.006*belang\n",
      "INFO:gensim.models.ldamodel:topic #1 (0.100): 0.013*heer + 0.011*minister + 0.010*staatssecretaris + 0.009*voorzitter + 0.009*wet + 0.008*wetsvoorstel + 0.008*vraag + 0.007*mensen + 0.007*aantal + 0.006*punt\n",
      "INFO:gensim.models.ldamodel:topic #2 (0.100): 0.021*lijst + 0.012*voorzitter + 0.012*heer + 0.009*staatssecretaris + 0.009*leden + 0.008*vergadering + 0.006*minister + 0.006*voorstellen + 0.006*berichten + 0.005*mevrouw\n",
      "INFO:gensim.models.ldamodel:topic #3 (0.100): 0.012*minister + 0.011*heer + 0.010*jaar + 0.009*voorzitter + 0.008*vraag + 0.006*wetsvoorstel + 0.006*beleid + 0.006*wijziging + 0.006*omroep + 0.006*aantal\n",
      "INFO:gensim.models.ldamodel:topic #4 (0.100): 0.022*minister + 0.008*gemeenten + 0.008*jaar + 0.008*voorzitter + 0.008*heer + 0.007*vraag + 0.006*beleid + 0.006*aantal + 0.006*wetsvoorstel + 0.005*fractie\n",
      "INFO:gensim.models.ldamodel:topic #5 (0.100): 0.072*griffienr + 0.029*leden + 0.024*alsvoren + 0.018*minister + 0.017*commissie + 0.014*belang + 0.014*wijziging + 0.011*zaken + 0.010*wet + 0.010*wetsvoorstel\n",
      "INFO:gensim.models.ldamodel:topic #6 (0.100): 0.016*onderwijs + 0.015*staatssecretaris + 0.011*scholen + 0.009*vraag + 0.008*voorzitter + 0.008*heer + 0.007*minister + 0.006*overheid + 0.005*aantal + 0.005*mensen\n",
      "INFO:gensim.models.ldamodel:topic #7 (0.100): 0.010*wet + 0.010*staatssecretaris + 0.009*werknemers + 0.008*voorzitter + 0.008*werkgever + 0.007*vraag + 0.007*minister + 0.007*werknemer + 0.007*mensen + 0.007*jaar\n",
      "INFO:gensim.models.ldamodel:topic #8 (0.100): 0.022*minister + 0.011*heer + 0.010*voorzitter + 0.008*regering + 0.007*vraag + 0.007*wetsvoorstel + 0.006*artikel + 0.006*jaar + 0.005*punt + 0.005*wet\n",
      "INFO:gensim.models.ldamodel:topic #9 (0.100): 0.014*minister + 0.008*voorzitter + 0.007*overheid + 0.007*heer + 0.007*jaar + 0.007*regering + 0.006*vraag + 0.005*kabinet + 0.004*staatssecretaris + 0.004*aantal\n",
      "INFO:gensim.models.ldamodel:topic diff=3.857969, rho=1.000000\n",
      "INFO:root:Found 200 documents.\n",
      "INFO:root:Reading document #0 ('/home/jvdzwaan/data/dilipad/txt-sample/nl.proc.ob.d.h-ek-19992000-951-951.xml.gz.txt')\n",
      "INFO:root:Reading document #100 ('/home/jvdzwaan/data/dilipad/txt-sample/nl.proc.ob.d.h-ek-19992000-179-198.xml.gz.txt')\n",
      "INFO:gensim.models.ldamodel:-8.023 per-word bound, 260.0 perplexity estimate based on a held-out corpus of 200 documents with 296237 words\n",
      "INFO:gensim.models.ldamodel:PROGRESS: pass 2, at document #200/200\n",
      "INFO:gensim.models.ldamodel:topic #0 (0.100): 0.011*minister + 0.011*jaar + 0.010*heer + 0.008*voorzitter + 0.008*inkomen + 0.006*mensen + 0.006*vraag + 0.006*punt + 0.005*staatssecretaris + 0.005*regering\n",
      "INFO:gensim.models.ldamodel:topic #1 (0.100): 0.013*heer + 0.012*minister + 0.010*staatssecretaris + 0.009*wetsvoorstel + 0.008*wet + 0.008*voorzitter + 0.008*vraag + 0.007*mensen + 0.007*aantal + 0.006*zorg\n",
      "INFO:gensim.models.ldamodel:topic #2 (0.100): 0.024*lijst + 0.013*voorzitter + 0.011*heer + 0.011*staatssecretaris + 0.010*belaging + 0.009*vergadering + 0.009*indieners + 0.008*leden + 0.007*mevrouw + 0.007*wetsvoorstel\n",
      "INFO:gensim.models.ldamodel:topic #3 (0.100): 0.013*heer + 0.011*minister + 0.010*voorzitter + 0.009*jaar + 0.008*vraag + 0.008*omroep + 0.007*beleid + 0.006*wetsvoorstel + 0.006*kabinet + 0.006*aantal\n",
      "INFO:gensim.models.ldamodel:topic #4 (0.100): 0.022*minister + 0.009*voorzitter + 0.008*heer + 0.008*gemeenten + 0.008*jaar + 0.007*vraag + 0.006*beleid + 0.006*wetsvoorstel + 0.006*aantal + 0.005*fractie\n",
      "INFO:gensim.models.ldamodel:topic #5 (0.100): 0.081*griffienr + 0.032*leden + 0.030*wijziging + 0.027*alsvoren + 0.020*minister + 0.018*commissie + 0.015*wet + 0.015*belang + 0.014*zaken + 0.010*wetsvoorstel\n",
      "INFO:gensim.models.ldamodel:topic #6 (0.100): 0.022*onderwijs + 0.014*staatssecretaris + 0.013*scholen + 0.010*vraag + 0.009*minister + 0.008*voorzitter + 0.008*overheid + 0.007*kwaliteit + 0.007*heer + 0.006*mensen\n",
      "INFO:gensim.models.ldamodel:topic #7 (0.100): 0.013*staatssecretaris + 0.013*werknemers + 0.013*wet + 0.011*werkgever + 0.009*werknemer + 0.008*voorzitter + 0.008*mensen + 0.007*arbeidsduur + 0.007*vraag + 0.007*vrouwen\n",
      "INFO:gensim.models.ldamodel:topic #8 (0.100): 0.021*minister + 0.011*heer + 0.010*voorzitter + 0.009*regering + 0.008*artikel + 0.007*vraag + 0.007*wetsvoorstel + 0.006*jaar + 0.006*orde + 0.005*punt\n",
      "INFO:gensim.models.ldamodel:topic #9 (0.100): 0.013*minister + 0.009*overheid + 0.008*voorzitter + 0.008*regering + 0.007*heer + 0.007*jaar + 0.007*vraag + 0.006*kabinet + 0.005*unie + 0.005*raad\n",
      "INFO:gensim.models.ldamodel:topic diff=1.134865, rho=1.000000\n",
      "INFO:root:Found 200 documents.\n",
      "INFO:root:Reading document #0 ('/home/jvdzwaan/data/dilipad/txt-sample/nl.proc.ob.d.h-ek-19992000-951-951.xml.gz.txt')\n",
      "INFO:root:Reading document #100 ('/home/jvdzwaan/data/dilipad/txt-sample/nl.proc.ob.d.h-ek-19992000-179-198.xml.gz.txt')\n",
      "INFO:gensim.models.ldamodel:-7.900 per-word bound, 238.9 perplexity estimate based on a held-out corpus of 200 documents with 296237 words\n",
      "INFO:gensim.models.ldamodel:PROGRESS: pass 3, at document #200/200\n",
      "INFO:gensim.models.ldamodel:topic #0 (0.100): 0.010*minister + 0.010*jaar + 0.010*heer + 0.008*voorzitter + 0.008*inkomen + 0.007*mensen + 0.006*vraag + 0.006*punt + 0.006*staatssecretaris + 0.005*regering\n",
      "INFO:gensim.models.ldamodel:topic #1 (0.100): 0.013*heer + 0.012*minister + 0.010*staatssecretaris + 0.009*wetsvoorstel + 0.009*wet + 0.008*voorzitter + 0.008*vraag + 0.007*mensen + 0.007*aantal + 0.007*zorg\n",
      "INFO:gensim.models.ldamodel:topic #2 (0.100): 0.023*lijst + 0.013*voorzitter + 0.012*staatssecretaris + 0.011*heer + 0.010*belaging + 0.010*indieners + 0.009*vergadering + 0.009*wetsvoorstel + 0.008*mevrouw + 0.008*leden\n",
      "INFO:gensim.models.ldamodel:topic #3 (0.100): 0.014*heer + 0.011*minister + 0.010*voorzitter + 0.009*omroep + 0.009*vraag + 0.007*jaar + 0.007*beleid + 0.006*kabinet + 0.006*wetsvoorstel + 0.006*aantal\n",
      "INFO:gensim.models.ldamodel:topic #4 (0.100): 0.021*minister + 0.009*heer + 0.009*voorzitter + 0.008*gemeenten + 0.008*jaar + 0.007*vraag + 0.006*wetsvoorstel + 0.006*beleid + 0.006*aantal + 0.005*fractie\n",
      "INFO:gensim.models.ldamodel:topic #5 (0.100): 0.076*griffienr + 0.033*wijziging + 0.030*leden + 0.025*alsvoren + 0.020*minister + 0.017*commissie + 0.016*wet + 0.014*belang + 0.014*zaken + 0.011*begroting\n",
      "INFO:gensim.models.ldamodel:topic #6 (0.100): 0.024*onderwijs + 0.014*scholen + 0.013*staatssecretaris + 0.010*minister + 0.010*vraag + 0.009*overheid + 0.008*voorzitter + 0.008*kwaliteit + 0.006*school + 0.006*heer\n",
      "INFO:gensim.models.ldamodel:topic #7 (0.100): 0.015*staatssecretaris + 0.013*werknemers + 0.013*wet + 0.010*werkgever + 0.009*werknemer + 0.008*mensen + 0.008*voorzitter + 0.007*arbeidsduur + 0.007*vraag + 0.007*vrouwen\n",
      "INFO:gensim.models.ldamodel:topic #8 (0.100): 0.021*minister + 0.011*heer + 0.010*voorzitter + 0.009*regering + 0.008*artikel + 0.007*vraag + 0.007*wetsvoorstel + 0.007*jaar + 0.006*orde + 0.005*punt\n",
      "INFO:gensim.models.ldamodel:topic #9 (0.100): 0.013*minister + 0.009*overheid + 0.008*voorzitter + 0.008*regering + 0.007*heer + 0.007*vraag + 0.007*jaar + 0.006*kabinet + 0.006*unie + 0.005*raad\n",
      "INFO:gensim.models.ldamodel:topic diff=0.219787, rho=1.000000\n",
      "INFO:root:Found 200 documents.\n",
      "INFO:root:Reading document #0 ('/home/jvdzwaan/data/dilipad/txt-sample/nl.proc.ob.d.h-ek-19992000-951-951.xml.gz.txt')\n",
      "INFO:root:Reading document #100 ('/home/jvdzwaan/data/dilipad/txt-sample/nl.proc.ob.d.h-ek-19992000-179-198.xml.gz.txt')\n",
      "INFO:gensim.models.ldamodel:-7.878 per-word bound, 235.3 perplexity estimate based on a held-out corpus of 200 documents with 296237 words\n",
      "INFO:gensim.models.ldamodel:PROGRESS: pass 4, at document #200/200\n",
      "INFO:gensim.models.ldamodel:topic #0 (0.100): 0.011*heer + 0.010*jaar + 0.010*minister + 0.008*voorzitter + 0.008*inkomen + 0.007*mensen + 0.006*vraag + 0.006*punt + 0.006*staatssecretaris + 0.005*regering\n",
      "INFO:gensim.models.ldamodel:topic #1 (0.100): 0.013*heer + 0.012*minister + 0.010*staatssecretaris + 0.009*wetsvoorstel + 0.009*wet + 0.008*voorzitter + 0.008*vraag + 0.007*mensen + 0.007*aantal + 0.007*zorg\n",
      "INFO:gensim.models.ldamodel:topic #2 (0.100): 0.023*lijst + 0.013*staatssecretaris + 0.013*voorzitter + 0.011*heer + 0.011*indieners + 0.010*belaging + 0.009*wetsvoorstel + 0.009*vergadering + 0.008*mevrouw + 0.008*leden\n",
      "INFO:gensim.models.ldamodel:topic #3 (0.100): 0.014*heer + 0.011*minister + 0.010*voorzitter + 0.009*omroep + 0.009*vraag + 0.007*beleid + 0.007*jaar + 0.006*kabinet + 0.006*wetsvoorstel + 0.006*aantal\n",
      "INFO:gensim.models.ldamodel:topic #4 (0.100): 0.022*minister + 0.009*heer + 0.009*voorzitter + 0.008*gemeenten + 0.008*jaar + 0.007*vraag + 0.006*wetsvoorstel + 0.006*beleid + 0.006*aantal + 0.005*fractie\n",
      "INFO:gensim.models.ldamodel:topic #5 (0.100): 0.075*griffienr + 0.033*wijziging + 0.030*leden + 0.025*alsvoren + 0.019*minister + 0.016*wet + 0.016*commissie + 0.014*belang + 0.014*zaken + 0.011*jaar\n",
      "INFO:gensim.models.ldamodel:topic #6 (0.100): 0.024*onderwijs + 0.015*scholen + 0.013*staatssecretaris + 0.010*minister + 0.010*vraag + 0.009*overheid + 0.008*voorzitter + 0.008*kwaliteit + 0.007*cultuur + 0.006*school\n",
      "INFO:gensim.models.ldamodel:topic #7 (0.100): 0.015*staatssecretaris + 0.013*werknemers + 0.013*wet + 0.010*werkgever + 0.009*werknemer + 0.008*mensen + 0.008*voorzitter + 0.007*vraag + 0.007*arbeidsduur + 0.007*vrouwen\n",
      "INFO:gensim.models.ldamodel:topic #8 (0.100): 0.021*minister + 0.011*heer + 0.010*voorzitter + 0.008*artikel + 0.008*regering + 0.007*vraag + 0.007*wetsvoorstel + 0.007*jaar + 0.006*orde + 0.005*punt\n",
      "INFO:gensim.models.ldamodel:topic #9 (0.100): 0.013*minister + 0.009*overheid + 0.008*regering + 0.008*voorzitter + 0.007*heer + 0.007*vraag + 0.007*jaar + 0.006*kabinet + 0.006*unie + 0.005*raad\n",
      "INFO:gensim.models.ldamodel:topic diff=0.083370, rho=1.000000\n"
     ]
    },
    {
     "name": "stdout",
     "output_type": "stream",
     "text": [
      "\n",
      "Wall time: 502 ms\n",
      "Do LDA\n",
      "CPU times: user 47.1 s, sys: 1min 40s, total: 2min 27s\n",
      "Wall time: 42.4 s\n"
     ]
    }
   ],
   "source": [
    "# Do LDA based on text data\n",
    "# Is veel sneller, de tijd zit 'm dus in het door de gezipte xml files heenlopen\n",
    "import gensim\n",
    "\n",
    "text_data_dir = '/home/jvdzwaan/data/dilipad/txt-sample'\n",
    "\n",
    "class Nouns:\n",
    "    def __init__(self, dir_name):\n",
    "        self.dir_name = dir_name\n",
    "        \n",
    "        self.NUMBER = 100\n",
    "    \n",
    "    def __iter__(self):\n",
    "        data_files = [d for d in os.listdir(self.dir_name) if d.endswith('.txt')]\n",
    "        logging.info('Found {} documents.'.format(len(data_files)))\n",
    "        for i, data_file in enumerate(data_files):\n",
    "            nouns = []\n",
    "            txt_file = os.path.join(self.dir_name, data_file)\n",
    "            if i % self.NUMBER == 0:\n",
    "                logging.info('Reading document #{} (\\'{}\\')'.format(i, txt_file))\n",
    "            with codecs.open(txt_file, 'rb', 'utf8') as f:\n",
    "                nouns = f.read().split()\n",
    "                yield nouns\n",
    "\n",
    "class TextCorpus:\n",
    "    def __init__(self, dir_name, dictionary):\n",
    "        self.dir_name = dir_name\n",
    "        self.dictionary = dictionary\n",
    "        self.nouns = Nouns(dir_name)\n",
    "        \n",
    "        self.NUMBER = 100\n",
    "    \n",
    "    def __iter__(self):\n",
    "        for ns in self.nouns:\n",
    "            yield self.dictionary.doc2bow(ns)\n",
    "                \n",
    "nouns = Nouns(text_data_dir)\n",
    "\n",
    "print 'Create dictionary'\n",
    "%time id2word = gensim.corpora.Dictionary(nouns)\n",
    "corpus = TextCorpus(text_data_dir, id2word)\n",
    "print 'Do LDA'\n",
    "% time lda = gensim.models.LdaModel(corpus=corpus, num_topics=10, id2word=id2word, update_every=0, passes=5) \n"
   ]
  }
 ],
 "metadata": {
  "kernelspec": {
   "display_name": "Python 2",
   "language": "python",
   "name": "python2"
  },
  "language_info": {
   "codemirror_mode": {
    "name": "ipython",
    "version": 2
   },
   "file_extension": ".py",
   "mimetype": "text/x-python",
   "name": "python",
   "nbconvert_exporter": "python",
   "pygments_lexer": "ipython2",
   "version": "2.7.6"
  }
 },
 "nbformat": 4,
 "nbformat_minor": 0
}
