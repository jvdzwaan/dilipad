{
 "cells": [
  {
   "cell_type": "code",
   "execution_count": 1,
   "metadata": {
    "collapsed": true
   },
   "outputs": [],
   "source": [
    "%matplotlib inline\n",
    "\n",
    "import matplotlib\n",
    "import numpy as np\n",
    "import matplotlib.pyplot as plt\n",
    "import pandas as pd\n",
    "\n",
    "pd.set_option('display.mpl_style', 'default') # Make the graphs a bit prettier\n",
    "plt.rcParams['figure.figsize'] = (15, 15)"
   ]
  },
  {
   "cell_type": "code",
   "execution_count": 2,
   "metadata": {
    "collapsed": true
   },
   "outputs": [],
   "source": [
    "# get topic and opinion vacabularies with frog lemmas\n",
    "from cptm.utils.experiment import load_topics, load_opinions\n",
    "\n",
    "config = {\n",
    "    \"inputData\": \"/path/to/input/data/*\",\n",
    "    \"outDir\": \"/home/jvdzwaan/data/dilipad/results/all_years-adj-cabinets_selected-parties/{}\",\n",
    "    \"nTopics\": 100\n",
    "}\n",
    "\n",
    "topics = load_topics(config)\n",
    "opinions = load_opinions(config)"
   ]
  },
  {
   "cell_type": "code",
   "execution_count": 3,
   "metadata": {
    "collapsed": false
   },
   "outputs": [
    {
     "name": "stdout",
     "output_type": "stream",
     "text": [
      "Index([u'baangarantie', u'ontwerprichtlijn', u'scheuring', u'cliëntniveau',\n",
      "       u'leveringsakte', u'verzekeringsplichtig', u'verdubbeling',\n",
      "       u'takenpakket', u'flutverhaal', u'ad-hocadvisering',\n",
      "       ...\n",
      "       u'besturingsmodel', u'kraamperiode', u'verkeersleidingscentrum', u'ík',\n",
      "       u'celgebruik', u'woningprijs', u'goederenverkeer', u'heenzending',\n",
      "       u'gezinsbijstand', u'projectleiding'],\n",
      "      dtype='object', length=38145)\n",
      "Index([u'verzekeringsplichtig', u'statisch', u'digitaal', u'kindvriendelijk',\n",
      "       u'fout', u'onverholen', u'vakgericht', u'kwestieus', u'kwistig',\n",
      "       u'deels',\n",
      "       ...\n",
      "       u'pasklaar', u'tonnen', u'ík', u'gezagvol', u'jammerlijk',\n",
      "       u'toelaatbaar', u'toevallig', u'volkomen', u'rustiek', u'identiek'],\n",
      "      dtype='object', length=6245)\n"
     ]
    }
   ],
   "source": [
    "topic_words = topics.index\n",
    "print topic_words\n",
    "opinion_words = opinions[opinions.keys()[0]].index\n",
    "print opinion_words"
   ]
  },
  {
   "cell_type": "code",
   "execution_count": 4,
   "metadata": {
    "collapsed": false
   },
   "outputs": [
    {
     "name": "stdout",
     "output_type": "stream",
     "text": [
      "2933969\n"
     ]
    }
   ],
   "source": [
    "# get lemmas extracted using pattern from NLwikipedia\n",
    "\n",
    "import glob\n",
    "import codecs\n",
    "\n",
    "input_dir = '/home/jvdzwaan/data/nlwiki-lemmatized/'\n",
    "input_files = glob.glob('{}/**/wiki*'.format(input_dir))\n",
    "\n",
    "vocabulary = {}\n",
    "\n",
    "for input_file in input_files:\n",
    "    with codecs.open(input_file, 'rb', encoding='utf-8') as f:\n",
    "        text = f.read()\n",
    "        words = text.split()\n",
    "        for word in words:\n",
    "            vocabulary[word] = None\n",
    "print len(vocabulary)"
   ]
  },
  {
   "cell_type": "code",
   "execution_count": 7,
   "metadata": {
    "collapsed": false
   },
   "outputs": [
    {
     "name": "stdout",
     "output_type": "stream",
     "text": [
      "8668\n"
     ]
    }
   ],
   "source": [
    "# how many topic and opinion words are not found in the nlwikipedia lemmas?\n",
    "no_match_topic = [x for x in topic_words if x not in vocabulary]\n",
    "\n",
    "print len(no_match_topic)\n",
    "#print no_match_topic"
   ]
  },
  {
   "cell_type": "code",
   "execution_count": 8,
   "metadata": {
    "collapsed": false
   },
   "outputs": [
    {
     "name": "stdout",
     "output_type": "stream",
     "text": [
      "476\n"
     ]
    }
   ],
   "source": [
    "no_match_opinion = [x for x in opinion_words if x not in vocabulary]\n",
    "\n",
    "print len(no_match_opinion)\n",
    "#print no_match_opinion"
   ]
  },
  {
   "cell_type": "code",
   "execution_count": 10,
   "metadata": {
    "collapsed": false
   },
   "outputs": [
    {
     "name": "stdout",
     "output_type": "stream",
     "text": [
      "1000\n",
      "1\n",
      "[u'aowleeftijd']\n"
     ]
    }
   ],
   "source": [
    "# how many topic words from the top 10 of all topics are not found in the nlwikipedia lemmas?\n",
    "with codecs.open(config.get('outDir').format('top_10_topics_100.txt'), 'rb', encoding='utf-8') as f:\n",
    "    text = f.read()\n",
    "    words = text.split()\n",
    "    print len(words)\n",
    "\n",
    "no_match_top_10_topic_words = [x for x in words if x not in vocabulary]\n",
    "\n",
    "print len(no_match_top_10_topic_words)\n",
    "print no_match_top_10_topic_words"
   ]
  },
  {
   "cell_type": "code",
   "execution_count": 20,
   "metadata": {
    "collapsed": false
   },
   "outputs": [
    {
     "name": "stdout",
     "output_type": "stream",
     "text": [
      "True\n",
      "False\n",
      "True\n",
      "True\n",
      "\n",
      "True\n",
      "False\n",
      "True\n",
      "True\n",
      "\n",
      "True\n",
      "False\n",
      "True\n",
      "True\n",
      "True\n",
      "True\n"
     ]
    }
   ],
   "source": [
    "print 'd' in topic_words\n",
    "print 'd66' in topic_words\n",
    "print 'd' in vocabulary\n",
    "print 'd66' in vocabulary\n",
    "\n",
    "print\n",
    "\n",
    "print 'f' in topic_words\n",
    "print 'f16' in topic_words\n",
    "print 'f' in vocabulary\n",
    "print 'f16' in vocabulary\n",
    "\n",
    "print\n",
    "\n",
    "print 'a' in topic_words\n",
    "print 'a2' in topic_words\n",
    "print 'a' in vocabulary\n",
    "print 'a1' in vocabulary\n",
    "print 'a2' in vocabulary\n",
    "print 'a3' in vocabulary"
   ]
  },
  {
   "cell_type": "code",
   "execution_count": 25,
   "metadata": {
    "collapsed": false
   },
   "outputs": [
    {
     "name": "stdout",
     "output_type": "stream",
     "text": [
      "Dictionary(4 unique tokens: [u'f16', u'D66', u'F16', u'd66'])\n"
     ]
    }
   ],
   "source": [
    "# perhaps it is not frog that ate the numbers, but gensim\n",
    "import gensim\n",
    "\n",
    "texts = [['d66', 'D66'], ['F16', 'f16']]\n",
    "dictionary = gensim.corpora.Dictionary(texts)\n",
    "print dictionary"
   ]
  },
  {
   "cell_type": "markdown",
   "metadata": {},
   "source": [
    "Okay, the problem is that in the folia files, numbers are separated from the character-part and the number part is a 'TW' (telwoord) and not a noun.\n",
    "\n",
    "Example:\n",
    "\n",
    "```xml\n",
    "<folia:w xml:id=\"nl.proc.ob.d.h-ek-20112012-9-3.1.11.2.1.0.27\">\n",
    "   <folia:t>D</folia:t>\n",
    "   <folia:lemma class=\"d\"/>\n",
    "   <folia:pos class=\"N\"/>\n",
    "</folia:w>\n",
    "<folia:w xml:id=\"nl.proc.ob.d.h-ek-20112012-9-3.1.11.2.1.0.28\">\n",
    "   <folia:t>66</folia:t>\n",
    "   <folia:lemma class=\"66\"/>\n",
    "   <folia:pos class=\"TW\"/>\n",
    "</folia:w>\n",
    "```\n",
    "\n",
    "Currently, frog does parse words like d66 correctly..."
   ]
  },
  {
   "cell_type": "code",
   "execution_count": 26,
   "metadata": {
    "collapsed": false,
    "scrolled": true
   },
   "outputs": [
    {
     "name": "stdout",
     "output_type": "stream",
     "text": [
      "False\n"
     ]
    }
   ],
   "source": [
    "print '66' in topic_words"
   ]
  },
  {
   "cell_type": "markdown",
   "metadata": {},
   "source": [
    "Okee, wat doen we? Bij het parsen van de nieuwe data (manifestos en andere handmatig gecodeerde data), gebruiken we pattern. En als we een woord tegenkomen dat bestaat uit [letters][cijfers] vervangen we die door [letters].\n",
    "\n",
    "Voor de topic coherence laten we het zo (ik zou d door d66 kunnen vervangen en f door f16, maar voor de a wordt het lastig). Ik kan ook d en f vervengen en a zo laten. Zou het veel uitmaken?"
   ]
  },
  {
   "cell_type": "code",
   "execution_count": 75,
   "metadata": {
    "collapsed": false
   },
   "outputs": [],
   "source": [
    "import re\n",
    "\n",
    "def remove_trailing_digits(word):\n",
    "    regex = re.compile('^(.+?)(\\d+)$', flags=re.UNICODE)\n",
    "    m = regex.match(word)\n",
    "    if m:\n",
    "        #print m.group(0), m.group(1)\n",
    "        return m.group(1)\n",
    "    else:\n",
    "        return word\n",
    "\n",
    "tests = {u'd66': u'd',\n",
    "         u'f16': u'f',\n",
    "         u'é33': u'é'}\n",
    "\n",
    "for i, o in tests.iteritems():\n",
    "    r = remove_trailing_digits(i)\n",
    "    if r != o:\n",
    "        print 'error', i, o, r"
   ]
  }
 ],
 "metadata": {
  "kernelspec": {
   "display_name": "Python 2",
   "language": "python",
   "name": "python2"
  },
  "language_info": {
   "codemirror_mode": {
    "name": "ipython",
    "version": 2
   },
   "file_extension": ".py",
   "mimetype": "text/x-python",
   "name": "python",
   "nbconvert_exporter": "python",
   "pygments_lexer": "ipython2",
   "version": "2.7.6"
  }
 },
 "nbformat": 4,
 "nbformat_minor": 0
}
