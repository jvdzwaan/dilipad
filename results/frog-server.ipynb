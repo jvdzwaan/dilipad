{
 "cells": [
  {
   "cell_type": "code",
   "execution_count": 13,
   "metadata": {
    "collapsed": false
   },
   "outputs": [
    {
     "name": "stdout",
     "output_type": "stream",
     "text": [
      "(u'Wat', u'wat', u'[wat]', u'VNW(vb,pron,stan,vol,3o,ev)')\n",
      "(u'hebje', u'heb', u'[heb][je]', u'N(soort,ev,dim,onz,stan)')\n",
      "(u'veur', u'veur', u'[veer][eur]', u'N(soort,ev,basis,zijd,stan)')\n",
      "(u'met', u'met', u'[met]', u'VZ(init)')\n",
      "(u'dat', u'dat', u'[dat]', u'VNW(aanw,pron,stan,vol,3o,ev)')\n",
      "(u'Cyteeren', u'cyteeren', u'[cyteeren]', u'WW(inf,vrij,zonder)')\n",
      "(u'?', u'?', u'[?]', u'LET()')\n"
     ]
    }
   ],
   "source": [
    "from pynlpl.clients.frogclient import FrogClient\n",
    "\n",
    "port = 5000\n",
    "frogclient = FrogClient('localhost', port)\n",
    "\n",
    "for data in frogclient.process(\"Wat hebje veur met dat Cyteeren?\"):\n",
    "    word, lemma, morph, pos = data[:4]\n",
    "    print data"
   ]
  }
 ],
 "metadata": {
  "kernelspec": {
   "display_name": "Python 2",
   "language": "python",
   "name": "python2"
  },
  "language_info": {
   "codemirror_mode": {
    "name": "ipython",
    "version": 2
   },
   "file_extension": ".py",
   "mimetype": "text/x-python",
   "name": "python",
   "nbconvert_exporter": "python",
   "pygments_lexer": "ipython2",
   "version": "2.7.6"
  }
 },
 "nbformat": 4,
 "nbformat_minor": 0
}
