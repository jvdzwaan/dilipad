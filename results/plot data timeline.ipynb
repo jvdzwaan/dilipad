{
 "cells": [
  {
   "cell_type": "code",
   "execution_count": 1,
   "metadata": {
    "collapsed": true
   },
   "outputs": [],
   "source": [
    "%matplotlib inline\n",
    "\n",
    "import matplotlib\n",
    "import numpy as np\n",
    "import matplotlib.pyplot as plt\n",
    "import pandas as pd\n",
    "import matplotlib"
   ]
  },
  {
   "cell_type": "code",
   "execution_count": 2,
   "metadata": {
    "collapsed": true
   },
   "outputs": [],
   "source": [
    "from math import sqrt\n",
    "SPINE_COLOR = 'gray'"
   ]
  },
  {
   "cell_type": "code",
   "execution_count": 3,
   "metadata": {
    "collapsed": true
   },
   "outputs": [],
   "source": [
    "def latexify(fig_width=None, fig_height=None, columns=1):\n",
    "    \"\"\"Set up matplotlib's RC params for LaTeX plotting.\n",
    "    Call this before plotting a figure.\n",
    "\n",
    "    Parameters\n",
    "    ----------\n",
    "    fig_width : float, optional, inches\n",
    "    fig_height : float,  optional, inches\n",
    "    columns : {1, 2}\n",
    "    \"\"\"\n",
    "\n",
    "    # code adapted from http://www.scipy.org/Cookbook/Matplotlib/LaTeX_Examples\n",
    "\n",
    "    # Width and max height in inches for IEEE journals taken from\n",
    "    # computer.org/cms/Computer.org/Journal%20templates/transactions_art_guide.pdf\n",
    "\n",
    "    assert(columns in [1,2])\n",
    "\n",
    "    if fig_width is None:\n",
    "        fig_width = 3.39 if columns==1 else 6.9 # width in inches\n",
    "\n",
    "    if fig_height is None:\n",
    "        golden_mean = (sqrt(5)-1.0)/2.0    # Aesthetic ratio\n",
    "        fig_height = fig_width*golden_mean # height in inches\n",
    "\n",
    "    MAX_HEIGHT_INCHES = 8.0\n",
    "    if fig_height > MAX_HEIGHT_INCHES:\n",
    "        print(\"WARNING: fig_height too large:\" + fig_height + \n",
    "              \"so will reduce to\" + MAX_HEIGHT_INCHES + \"inches.\")\n",
    "        fig_height = MAX_HEIGHT_INCHES\n",
    "\n",
    "    params = {'backend': 'ps',\n",
    "              'text.latex.preamble': ['\\usepackage{gensymb}'],\n",
    "              'axes.labelsize': 12, # fontsize for x and y labels (was 10)\n",
    "              'axes.titlesize': 12,\n",
    "              'text.fontsize': 12, # was 10\n",
    "              'legend.fontsize': 12, # was 10\n",
    "              'xtick.labelsize': 12,\n",
    "              'ytick.labelsize': 12,\n",
    "              'text.usetex': True,\n",
    "              'figure.figsize': [fig_width,fig_height],\n",
    "              'font.family': 'serif'\n",
    "    }\n",
    "\n",
    "    matplotlib.rcParams.update(params)\n",
    "\n",
    "\n",
    "def format_axes(ax):\n",
    "\n",
    "    for spine in ['top', 'right']:\n",
    "        ax.spines[spine].set_visible(False)\n",
    "\n",
    "    for spine in ['left', 'bottom']:\n",
    "        ax.spines[spine].set_color(SPINE_COLOR)\n",
    "        ax.spines[spine].set_linewidth(0.5)\n",
    "\n",
    "    ax.xaxis.set_ticks_position('bottom')\n",
    "    ax.yaxis.set_ticks_position('left')\n",
    "\n",
    "    for axis in [ax.xaxis, ax.yaxis]:\n",
    "        axis.set_tick_params(direction='out', color=SPINE_COLOR)\n",
    "\n",
    "    return ax\n"
   ]
  },
  {
   "cell_type": "code",
   "execution_count": 7,
   "metadata": {
    "collapsed": false
   },
   "outputs": [
    {
     "data": {
      "text/html": [
       "<div>\n",
       "<table border=\"1\" class=\"dataframe\">\n",
       "  <thead>\n",
       "    <tr style=\"text-align: right;\">\n",
       "      <th></th>\n",
       "      <th>begin</th>\n",
       "      <th>color</th>\n",
       "      <th>end</th>\n",
       "      <th>name</th>\n",
       "    </tr>\n",
       "  </thead>\n",
       "  <tbody>\n",
       "    <tr>\n",
       "      <th>0</th>\n",
       "      <td>1999-09-21</td>\n",
       "      <td>#2b8cbe</td>\n",
       "      <td>2012-09-12</td>\n",
       "      <td>Dataset</td>\n",
       "    </tr>\n",
       "    <tr>\n",
       "      <th>1</th>\n",
       "      <td>1998-08-03</td>\n",
       "      <td>#a6bddb</td>\n",
       "      <td>2002-07-22</td>\n",
       "      <td>K.II</td>\n",
       "    </tr>\n",
       "    <tr>\n",
       "      <th>2</th>\n",
       "      <td>2002-07-22</td>\n",
       "      <td>#a6bddb</td>\n",
       "      <td>2003-05-27</td>\n",
       "      <td>B.I</td>\n",
       "    </tr>\n",
       "    <tr>\n",
       "      <th>3</th>\n",
       "      <td>2003-05-27</td>\n",
       "      <td>#a6bddb</td>\n",
       "      <td>2006-07-07</td>\n",
       "      <td>B.II</td>\n",
       "    </tr>\n",
       "    <tr>\n",
       "      <th>4</th>\n",
       "      <td>2006-07-07</td>\n",
       "      <td>#a6bddb</td>\n",
       "      <td>2007-02-22</td>\n",
       "      <td>B.III</td>\n",
       "    </tr>\n",
       "    <tr>\n",
       "      <th>5</th>\n",
       "      <td>2007-02-22</td>\n",
       "      <td>#a6bddb</td>\n",
       "      <td>2010-10-14</td>\n",
       "      <td>B.IV</td>\n",
       "    </tr>\n",
       "    <tr>\n",
       "      <th>6</th>\n",
       "      <td>2010-10-14</td>\n",
       "      <td>#a6bddb</td>\n",
       "      <td>2012-11-05</td>\n",
       "      <td>R.I</td>\n",
       "    </tr>\n",
       "  </tbody>\n",
       "</table>\n",
       "</div>"
      ],
      "text/plain": [
       "       begin    color        end     name\n",
       "0 1999-09-21  #2b8cbe 2012-09-12  Dataset\n",
       "1 1998-08-03  #a6bddb 2002-07-22     K.II\n",
       "2 2002-07-22  #a6bddb 2003-05-27      B.I\n",
       "3 2003-05-27  #a6bddb 2006-07-07     B.II\n",
       "4 2006-07-07  #a6bddb 2007-02-22    B.III\n",
       "5 2007-02-22  #a6bddb 2010-10-14     B.IV\n",
       "6 2010-10-14  #a6bddb 2012-11-05      R.I"
      ]
     },
     "execution_count": 7,
     "metadata": {},
     "output_type": "execute_result"
    }
   ],
   "source": [
    "data = {'begin': ['1999-09-21', '1998-08-03', '2002-07-22', '2003-05-27', '2006-07-07', '2007-02-22', '2010-10-14'],\n",
    "        'end': ['2012-09-12', '2002-07-22', '2003-05-27', '2006-07-07', '2007-02-22', '2010-10-14', '2012-11-05'],\n",
    "        'name': ['Dataset', 'K.II', 'B.I', 'B.II', 'B.III', 'B.IV', 'R.I'],\n",
    "        # colors from colorbrewer 3 class pubu\n",
    "        'color': ['#2b8cbe', '#a6bddb', '#a6bddb', '#a6bddb', '#a6bddb', '#a6bddb', '#a6bddb']}\n",
    "\n",
    "df = pd.DataFrame(data)\n",
    "df['begin'] = df.apply(lambda row: pd.to_datetime(row['begin'], format=\"%Y-%m-%d\"), axis=1)\n",
    "df['end'] = df.apply(lambda row: pd.to_datetime(row['end'], format=\"%Y-%m-%d\"), axis=1)\n",
    "df"
   ]
  },
  {
   "cell_type": "code",
   "execution_count": 5,
   "metadata": {
    "collapsed": false
   },
   "outputs": [
    {
     "name": "stdout",
     "output_type": "stream",
     "text": [
      "0   1999-09-21\n",
      "1   1998-08-03\n",
      "2   2002-07-22\n",
      "3   2003-05-27\n",
      "4   2006-07-07\n",
      "5   2007-02-22\n",
      "6   2010-10-14\n",
      "Name: begin, dtype: datetime64[ns]\n",
      "[628, 214, 1663, 1972, 3109, 3339, 4669]\n",
      "[5368, 1663, 1972, 3109, 3339, 4669, 5422]\n",
      "[0, 1, 2, 3, 4, 5, 6]\n"
     ]
    }
   ],
   "source": [
    "df.begin-df.end\n",
    "start = [(b - pd.to_datetime('1998-01-01', format=\"%Y-%m-%d\")).days for b in df.begin]\n",
    "end = [(b - pd.to_datetime('1998-01-01', format=\"%Y-%m-%d\")).days for b in df.end]\n",
    "y = [x+1 for x in df.index]\n",
    "print df.begin\n",
    "print start\n",
    "print end\n",
    "print list(df.index)"
   ]
  },
  {
   "cell_type": "code",
   "execution_count": 8,
   "metadata": {
    "collapsed": false
   },
   "outputs": [
    {
     "data": {
      "image/png": "[encoded data removed]",
      "text/plain": [
       "<matplotlib.figure.Figure at 0x7f8ea92cc350>"
      ]
     },
     "metadata": {},
     "output_type": "display_data"
    }
   ],
   "source": [
    "latexify(8,2.2)\n",
    "plt.figure(1)\n",
    "plt.hlines(y, start, end, colors=list(df.color), linewidth=6.0)\n",
    "axes = plt.gca()\n",
    "format_axes(axes)\n",
    "axes.set_ylim([0,8])\n",
    "axes.set_yticklabels(['']+list(df.name))\n",
    "axes.set_xlim([0,5500])\n",
    "axes.set_xticks(range(0, 5500, 365*2))\n",
    "axes.set_xticklabels([str(x) for x in range(1998, 2014, 2)])\n",
    "plt.tight_layout()\n",
    "plt.savefig(\"/home/jvdzwaan/Dropbox/Publications/Papers/Dilipad/latex/images/data_timeline.pdf\")"
   ]
  }
 ],
 "metadata": {
  "kernelspec": {
   "display_name": "Python 2",
   "language": "python",
   "name": "python2"
  },
  "language_info": {
   "codemirror_mode": {
    "name": "ipython",
    "version": 2
   },
   "file_extension": ".py",
   "mimetype": "text/x-python",
   "name": "python",
   "nbconvert_exporter": "python",
   "pygments_lexer": "ipython2",
   "version": "2.7.6"
  }
 },
 "nbformat": 4,
 "nbformat_minor": 0
}
