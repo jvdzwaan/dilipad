{
 "cells": [
  {
   "cell_type": "code",
   "execution_count": 1,
   "metadata": {
    "collapsed": true
   },
   "outputs": [],
   "source": [
    "%matplotlib inline\n",
    "\n",
    "import matplotlib\n",
    "import numpy as np\n",
    "import matplotlib.pyplot as plt\n",
    "import pandas as pd"
   ]
  },
  {
   "cell_type": "code",
   "execution_count": 3,
   "metadata": {
    "collapsed": true
   },
   "outputs": [],
   "source": [
    "def latexify(fig_width=None, fig_height=None, columns=1):\n",
    "    \"\"\"Set up matplotlib's RC params for LaTeX plotting.\n",
    "    Call this before plotting a figure.\n",
    "\n",
    "    Parameters\n",
    "    ----------\n",
    "    fig_width : float, optional, inches\n",
    "    fig_height : float,  optional, inches\n",
    "    columns : {1, 2}\n",
    "    \"\"\"\n",
    "\n",
    "    # code adapted from http://www.scipy.org/Cookbook/Matplotlib/LaTeX_Examples\n",
    "\n",
    "    # Width and max height in inches for IEEE journals taken from\n",
    "    # computer.org/cms/Computer.org/Journal%20templates/transactions_art_guide.pdf\n",
    "\n",
    "    assert(columns in [1,2])\n",
    "\n",
    "    if fig_width is None:\n",
    "        fig_width = 3.39 if columns==1 else 6.9 # width in inches\n",
    "\n",
    "    if fig_height is None:\n",
    "        golden_mean = (sqrt(5)-1.0)/2.0    # Aesthetic ratio\n",
    "        fig_height = fig_width*golden_mean # height in inches\n",
    "\n",
    "    MAX_HEIGHT_INCHES = 8.0\n",
    "    if fig_height > MAX_HEIGHT_INCHES:\n",
    "        print(\"WARNING: fig_height too large:\" + fig_height + \n",
    "              \"so will reduce to\" + MAX_HEIGHT_INCHES + \"inches.\")\n",
    "        fig_height = MAX_HEIGHT_INCHES\n",
    "\n",
    "    params = {'backend': 'ps',\n",
    "              'text.latex.preamble': ['\\usepackage{gensymb}'],\n",
    "              'axes.labelsize': 12, # fontsize for x and y labels (was 10)\n",
    "              'axes.titlesize': 12,\n",
    "              'text.fontsize': 12, # was 10\n",
    "              'legend.fontsize': 12, # was 10\n",
    "              'xtick.labelsize': 12,\n",
    "              'ytick.labelsize': 12,\n",
    "              'text.usetex': True,\n",
    "              'figure.figsize': [fig_width,fig_height],\n",
    "              'font.family': 'serif'\n",
    "    }\n",
    "\n",
    "    matplotlib.rcParams.update(params)\n",
    "\n",
    "\n",
    "def format_axes(ax):\n",
    "\n",
    "    for spine in ['top', 'right']:\n",
    "        ax.spines[spine].set_visible(False)\n",
    "\n",
    "    for spine in ['left', 'bottom']:\n",
    "        ax.spines[spine].set_color(SPINE_COLOR)\n",
    "        ax.spines[spine].set_linewidth(0.5)\n",
    "\n",
    "    ax.xaxis.set_ticks_position('bottom')\n",
    "    ax.yaxis.set_ticks_position('left')\n",
    "\n",
    "    for axis in [ax.xaxis, ax.yaxis]:\n",
    "        axis.set_tick_params(direction='out', color=SPINE_COLOR)\n",
    "\n",
    "    return ax\n",
    "\n",
    "SPINE_COLOR = 'gray'"
   ]
  },
  {
   "cell_type": "code",
   "execution_count": 28,
   "metadata": {
    "collapsed": false
   },
   "outputs": [
    {
     "name": "stdout",
     "output_type": "stream",
     "text": [
      "Index([u'words', u'usefulness_A', u'usefulness_B', u'usefulness_C', u'cap',\n",
      "       u'C_A', u'C_P', u'C_V', u'NPMI', u'UCI', u'UMass', u'mean_usefulness',\n",
      "       u'usefulness', u'cap_svm'],\n",
      "      dtype='object')\n"
     ]
    }
   ],
   "source": [
    "config = {\n",
    "    \"inputData\": \"/path/to/input/data/*\",\n",
    "    \"outDir\": \"/home/jvdzwaan/data/dilipad/results/all_years-adj-cabinets_selected-parties/{}\",\n",
    "    \"nTopics\": 100\n",
    "}\n",
    "\n",
    "data = pd.read_csv(config.get('outDir').format('topics_100_data.csv'), index_col=0, encoding='utf-8')\n",
    "print data.columns"
   ]
  },
  {
   "cell_type": "code",
   "execution_count": 19,
   "metadata": {
    "collapsed": false
   },
   "outputs": [
    {
     "data": {
      "image/png": "[encoded data removed]",
      "text/plain": [
       "<matplotlib.figure.Figure at 0x7f354df9f810>"
      ]
     },
     "metadata": {},
     "output_type": "display_data"
    }
   ],
   "source": [
    "fig, ax = plt.subplots()\n",
    "data['mean usefulness score'] = data['mean_usefulness']\n",
    "data.plot('mean usefulness score', 'NPMI', kind='scatter', ax=ax)\n",
    "plt.axhline(y=data['NPMI'].mean(), linestyle='--', color='black')\n",
    "latexify(5, 5)\n",
    "format_axes(ax)\n",
    "plt.tight_layout()\n",
    "plt.savefig(\"/home/jvdzwaan/Dropbox/Publications/Papers/Dilipad/latex/images/npmi_usefulness.pdf\")"
   ]
  },
  {
   "cell_type": "code",
   "execution_count": 38,
   "metadata": {
    "collapsed": false
   },
   "outputs": [
    {
     "name": "stdout",
     "output_type": "stream",
     "text": [
      "(23, 14)\n"
     ]
    },
    {
     "data": {
      "text/plain": [
       "1                                   risico systeem effect voordeel prikkel nadeel invoering idee onzekerheid systematiek\n",
       "2                         argument bezwaar redenering argumentatie grond aard overweging omstandigheid oordeel standpunt\n",
       "5                   ondersteuning aanbesteding hulp dienst budget kwaliteit mantelzorger handreiking opdracht mantelzorg\n",
       "7           ziekenhuis verzekeraar zorgverzekeraar premie verzekering gezondheidszorg patiënt stelsel kwaliteit huisarts\n",
       "11    indiener initiatiefnemer initiatief initiatiefwetsvoorstel doel initiatiefvoorstel inbreng woordvoerder handeli...\n",
       "22                 baan arbeidsmarkt economie werkgelegenheid werkloosheid hervorming ontslagrecht zekerheid crisis kans\n",
       "23                            gezin budget kinderbijslag arbeid verlof partner financiering keuze samenleving zorgverlof\n",
       "26                                   dier verbod dierenwelzijn sector vlees slacht welzijn kip volksgezondheid dierproef\n",
       "33              asielzoeker vreemdeling opvang terugkeer procedure verblijfsvergunning pardon herkomst verblijf illegaal\n",
       "38                     begroting uitgaaf groei tekort dekking lastenverlichting economie staatsschuld bedrag beschouwing\n",
       "44          inkomen bedrag belastingdienst compensatie toeslag tegemoetkoming huishouden verhoging koopkracht vergoeding\n",
       "58                                         jeugdzorg wachtlijst bureau jeugd aanpak inrichting cel hulp gezin capaciteit\n",
       "59                   sector bestuurder salaris onderneming aandeelhouder beloning top bonus ondernemingsraad commissaris\n",
       "66                                    wetenschap leven stand gebruik embryo techniek verbod wetenschapper afweging donor\n",
       "71                                      bijstand uitkering baan arbeidsmarkt minimumloon er kans inkomen arbeid scholing\n",
       "72         d regeerakkoord coalitie akkoord oppositie coalitiepartij onderhandeling compromis tafel verkiezingsprogramma\n",
       "77                   integriteit enquête controle accountant aanwijzing luchthaven ministerie melding bouw klokkenluider\n",
       "78                                energie meter stroom energiebedrijf gas investering opslag afval splitsing kernenergie\n",
       "83                         instelling cliënt awbz budget begeleiding pgb indicatie zorginstelling verpleeghuis thuiszorg\n",
       "92                                  veiligheid terrorisme ramp actie aanslag gevaar brandweer dreiging strijd bedreiging\n",
       "93      provincie regio ordening niveau samenwerking taak veiligheidsregio bestemmingsplan bedrijventerrein bestuurslaag\n",
       "94                         boete handhaving alcohol drug overtreding preventie coffeeshop verbod leeftijdsgrens overlast\n",
       "97                                              euro mln gulden bedrag pakket begroting schuld economie noodfonds crisis\n",
       "Name: words, dtype: object"
      ]
     },
     "execution_count": 38,
     "metadata": {},
     "output_type": "execute_result"
    }
   ],
   "source": [
    "# hoge usefulnes rating, lage npmi\n",
    "pd.options.display.max_colwidth = 115\n",
    "hq = data[data['mean_usefulness']>2]\n",
    "hq2 = hq[hq['NPMI'] < data['NPMI'].mean()]\n",
    "print hq2.shape\n",
    "hq2['words']"
   ]
  },
  {
   "cell_type": "code",
   "execution_count": 39,
   "metadata": {
    "collapsed": false
   },
   "outputs": [
    {
     "name": "stdout",
     "output_type": "stream",
     "text": [
      "(39, 14)\n"
     ]
    },
    {
     "data": {
      "text/plain": [
       "0                      draagvlak herindeling stad inwoner samenwerking provincie bevolking bestuur argument samenvoeging\n",
       "4                          auto weg verkeer kilometerheffing waterstaat file mobiliteit km infrastructuur luchtkwaliteit\n",
       "10                         referendum verkiezing meerderheid democratie grondwet bevolking kiezer parlement stem uitslag\n",
       "13                         toezicht kwaliteit inspectie taak instelling toezichthouder controle eis oordeel beleidsregel\n",
       "17                                      internet bericht website actie gebruik communicatie beeld nummer e-mail telefoon\n",
       "19                         markt consument marktwerking prijs concurrentie sector aanbieder tarief liberalisering dienst\n",
       "20                               woning huurder corporatie wijk verhuurder huur huurwoning stad woningcorporatie bewoner\n",
       "21                                         leven ziekte arts protocol gezondheid euthanasie vervanging hulp abortus dood\n",
       "24                              justitie straf slachtoffer strafrecht misdrijf rechter wetboek delict officier taakstraf\n",
       "25                                  werkgever werknemer arbeid partner cao sector arbeidsvoorwaarde dienst contract loon\n",
       "27                          bestuur staat gemeenteraad wethouder functie college orgaan commissaris dualisering kaderwet\n",
       "29    belasting belastingplan tarief heffing verlaging vennootschapsbelasting vrijstelling belastingdienst winst verm...\n",
       "30                          bedrag subsidie financiering fonds gebouw museum sponsoring verhoging bedoeling geschiedenis\n",
       "32                       gegeven privacy dossier systeem bescherming persoonsgegeven gebruik toegang toestemming persoon\n",
       "34                                 pensioen aow pensioenfonds partner leeftijd akkoord verhoging aowleeftijd fonds maand\n",
       "35                     grondwet grondrecht bepaling wetgever vrijheid opvatting wetgeving strijd betekenis interpretatie\n",
       "36                             ondernemer bedrijfsleven last innovatie onderneming economie mkb sector midden ministerie\n",
       "37                              boer sector landbouw product productie platteland voedsel consument markt landbouwbeleid\n",
       "39                       huis last inkomen hypotheekrenteaftrek hypotheek afschaffing woning woningmarkt belasting prijs\n",
       "40                            taal integratie samenleving inburgering niveau achterstand kans allochtonen kennis migrant\n",
       "42                       richtlijn bank crisis sector implementatie risico instelling markt toezichthouder kredietcrisis\n",
       "43     ontwikkelingssamenwerking wereld hulp inzet samenwerking ontwikkelingsland organisatie relatie armoede initiatief\n",
       "46                                 doelstelling milieu ambitie energie doel klimaat uitstoot duurzaamheid economie groei\n",
       "49                                                         leerling leraar docent kwaliteit klas mbo ouder vak stage les\n",
       "50                      verdrag unie lidstaat parlement uitbreiding samenwerking onderhandeling toetreding top conventie\n",
       "55                     rechter procedure gezag bestuursrecht advocaat overeenkomst notaris bestuursorgaan beroep bezwaar\n",
       "56                     natuur provincie grond natuurgebied beheer activiteit veehouderij effect landschap hoofdstructuur\n",
       "65                                   oorlog mensenrecht resolutie wereld actie president bevolking conflict regime staat\n",
       "75                           ouder kinderopvang opvang moeder kwaliteit opvoeding keuzevrijheid keuze leeftijd gastouder\n",
       "76                            rechter beroep uitspraak toetsing macht rechtspraak hof jurisprudentie rechtbank procedure\n",
       "79                                       defensie missie militair krijgsmacht operatie inzet personeel f taak uitzending\n",
       "81              patiënt arts huisarts gezondheidszorg ziekenhuis geneesmiddel apotheker beroepsgroep medicijn specialist\n",
       "86                          premier koningin formatie informateur huis koning staatshoofd kandidaat parlement verkiezing\n",
       "87                                     vervoer spoor trein reiziger stad onderhoud concessie aanbesteding bus vervoerder\n",
       "88                               koninkrijk eiland statuut verhouding status proces bestuur bevolking bes-eilanden visie\n",
       "91                                omroep programma bestel media bestuur televisie omroepvereniging reclame radio publiek\n",
       "95                              politie geweld straat justitie veiligheid agent aanpak criminaliteit aangifte prioriteit\n",
       "96              student opleiding instelling universiteit studie kwaliteit studiefinanciering hbo collegegeld hogeschool\n",
       "98                                 vrijheid experiment moslim islam samenleving meningsuiting godsdienst kerk film angst\n",
       "Name: words, dtype: object"
      ]
     },
     "execution_count": 39,
     "metadata": {},
     "output_type": "execute_result"
    }
   ],
   "source": [
    "# hoge usefulness rating, hoge npmi\n",
    "hq = data[data['mean_usefulness']>2]\n",
    "hq2 = hq[hq['NPMI'] > data['NPMI'].mean()]\n",
    "print hq2.shape\n",
    "hq2['words']"
   ]
  },
  {
   "cell_type": "code",
   "execution_count": 40,
   "metadata": {
    "collapsed": false
   },
   "outputs": [
    {
     "name": "stdout",
     "output_type": "stream",
     "text": [
      "(29, 14)\n"
     ]
    },
    {
     "data": {
      "text/plain": [
       "3          besluit oordeel notitie procedure beslissing besluitvorming standpunt voorbereiding inhoud zorgvuldigheid\n",
       "8                     bewindsman aanpak uitvoering resultaat inzet rapportage inzicht verbetering beeld samenwerking\n",
       "9                                     regel regelgeving fraude schip bureaucratie wetgeving controle kop oorzaak wal\n",
       "12     begroting visie cultuur terrein departement kennis ministerie bewindspersoon prioriteit begrotingsbehandeling\n",
       "14                                      aanbeveling les oordeel fout mandaat kennis kritiek politiek analyse enquête\n",
       "16                      toezegging evaluatie beantwoording gebruik winkel experiment effect dank behoefte verruiming\n",
       "18       sgp-fractie nationaliteit uitzondering categorie eis plicht hout nederlanderschap uitgangspunt verplichting\n",
       "28    gesprek duidelijkheid helderheid tafel onduidelijkheid kwestie uitkomst beantwoording wetgevingsoverleg onrust\n",
       "31                                verklaring twijfel getuige bewijs oordeel gebruik dossier verdediging bron bezwaar\n",
       "48                                  bezuiniging cijfer begroting keuze belofte percentage getal miljoen verhaal paar\n",
       "51                                  indiening pvv-fractie vis post dictum toezegging opdracht postmarkt boter minuut\n",
       "54                                   schuld rekening deur vermogen vergoeding stok gemeenschap goed beslag vordering\n",
       "57                               vertrouwen proces stap werkgroep richting randvoorwaarde weg resultaat dossier kans\n",
       "60                               verzoek maand stemming agenda uitstel spoeddebat meerderheid bericht behoefte datum\n",
       "61                  boek schoolboek prijs methode mensenhandel prostitutie boekenprijs registratie prostituee aanbod\n",
       "64                                   uitspraak standpunt interview beeld krant mond opvatting uitlating citaat media\n",
       "67                              voorwaarde sp-fractie optie eis meerderheid stap garantie voorstander richting staat\n",
       "68                      norm vergunning water waterschap aanpak handhaving last uitvoering vergunningverlening grond\n",
       "69                                                           uur ure vak fase paar avond nacht kennis wiskunde beeld\n",
       "70          kaart schade kracht claim uitspraak paspoort schadevergoeding duidelijkheid identificatieplicht aanvraag\n",
       "73           criterium pvda-fractie stichting dienst vereniging dienstverlening toepassing loket grond duidelijkheid\n",
       "74                          advies state kritiek afdeling oordeel advisering onafhankelijkheid taak adviseur bezwaar\n",
       "80                                 keuze afweging consequentie verschil oordeel opzicht betoog lijn aanzien stelling\n",
       "82                           memorie toelichting toepassing gevaar grond pagina persoon opname machtiging voorwaarde\n",
       "84                                          instrument signaal richting stap lijn sanctie suggestie weg inzet gevoel\n",
       "85                       project alternatief procedure vertraging variant besluitvorming besluit crisis herstelwet a\n",
       "89                    nota wijziging verslag wetgeving wetswijziging toelichting werking aanpassing bepaling novelle\n",
       "90                        bestuur convenant fusie medezeggenschap model zeggenschap personeel invloed autonomie maat\n",
       "99    invoering uitvoering voorziening knelpunt uitgangspunt periode problematiek doelstelling uitwerking aanpassing\n",
       "Name: words, dtype: object"
      ]
     },
     "execution_count": 40,
     "metadata": {},
     "output_type": "execute_result"
    }
   ],
   "source": [
    "# lage usefulness rating, lage npmi\n",
    "hq = data[data['mean_usefulness']<=2]\n",
    "hq2 = hq[hq['NPMI'] < data['NPMI'].mean()]\n",
    "print hq2.shape\n",
    "hq2['words']"
   ]
  },
  {
   "cell_type": "code",
   "execution_count": 41,
   "metadata": {
    "collapsed": false
   },
   "outputs": [
    {
     "name": "stdout",
     "output_type": "stream",
     "text": [
      "(9, 14)\n"
     ]
    },
    {
     "data": {
      "text/plain": [
       "6                       grens buitenland verkeer principe lijn verschil idee verleden constructie omstandigheid\n",
       "15    bevoegdheid burgemeester college klacht ombudsman taak instituut gemeenteraad verordening kinderombudsman\n",
       "41                          element relatie aspect benadering term karakter verhouding maat perspectief opzicht\n",
       "45                       ministerie ambtenaar departement justitie tb medewerker hoogte dienst incident dossier\n",
       "47            organisatie doel lijst doelstelling taak verantwoording activiteit controle jaarverslag resultaat\n",
       "52                                 samenleving waard politiek thema leven staat opvatting eeuw politicus gedrag\n",
       "53                                        verhaal mijnheer idee betoog paar wereld huis hart hoop werkelijkheid\n",
       "62         begrip definitie grond onderscheid interpretatie term wetgeving minderheid discriminatie formulering\n",
       "63                                     vrouw man partner slachtoffer relatie moeder huwelijk vader persoon kerk\n",
       "Name: words, dtype: object"
      ]
     },
     "execution_count": 41,
     "metadata": {},
     "output_type": "execute_result"
    }
   ],
   "source": [
    "# lage usefulness rating, hoge npmi\n",
    "hq = data[data['mean_usefulness']<=2]\n",
    "hq2 = hq[hq['NPMI'] > data['NPMI'].mean()]\n",
    "print hq2.shape\n",
    "hq2['words']"
   ]
  }
 ],
 "metadata": {
  "kernelspec": {
   "display_name": "Python 2",
   "language": "python",
   "name": "python2"
  },
  "language_info": {
   "codemirror_mode": {
    "name": "ipython",
    "version": 2
   },
   "file_extension": ".py",
   "mimetype": "text/x-python",
   "name": "python",
   "nbconvert_exporter": "python",
   "pygments_lexer": "ipython2",
   "version": "2.7.6"
  }
 },
 "nbformat": 4,
 "nbformat_minor": 0
}
