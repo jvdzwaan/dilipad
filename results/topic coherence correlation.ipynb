{
 "cells": [
  {
   "cell_type": "code",
   "execution_count": 1,
   "metadata": {
    "collapsed": true
   },
   "outputs": [],
   "source": [
    "%matplotlib inline\n",
    "\n",
    "import matplotlib\n",
    "import numpy as np\n",
    "import matplotlib.pyplot as plt\n",
    "import pandas as pd\n",
    "\n",
    "plt.rcParams['figure.figsize'] = (5, 5)"
   ]
  },
  {
   "cell_type": "code",
   "execution_count": 2,
   "metadata": {
    "collapsed": false
   },
   "outputs": [
    {
     "name": "stdout",
     "output_type": "stream",
     "text": [
      "Index([u'words', u'usefulness_A', u'usefulness_B', u'usefulness_C', u'cap',\n",
      "       u'C_A', u'C_P', u'C_V', u'NPMI', u'UCI', u'UMass', u'mean_usefulness',\n",
      "       u'usefulness'],\n",
      "      dtype='object')\n"
     ]
    }
   ],
   "source": [
    "config = {\n",
    "    \"inputData\": \"/path/to/input/data/*\",\n",
    "    \"outDir\": \"/home/jvdzwaan/data/dilipad/results/all_years-adj-cabinets_selected-parties/{}\",\n",
    "    \"nTopics\": 100\n",
    "}\n",
    "\n",
    "data = pd.read_csv(config.get('outDir').format('topics_100_data.csv'), encoding='utf-8', index_col=0)\n",
    "print data.columns\n",
    "#data"
   ]
  },
  {
   "cell_type": "code",
   "execution_count": 3,
   "metadata": {
    "collapsed": false
   },
   "outputs": [
    {
     "name": "stdout",
     "output_type": "stream",
     "text": [
      "C_A\n",
      "correlation: 0.0919982559885 (p = 0.362638687893)\n",
      "\n",
      "C_P\n",
      "correlation: 0.368391582542 (p = 0.000162510660987) significant\n",
      "\n",
      "C_V\n",
      "correlation: 0.129294521468 (p = 0.199815071765)\n",
      "\n",
      "NPMI\n",
      "correlation: 0.415885254746 (p = 1.68371220861e-05) significant\n",
      "\n",
      "UCI\n",
      "correlation: 0.363527623331 (p = 0.000201121287625) significant\n",
      "\n",
      "UMass\n",
      "correlation: 0.075786557148 (p = 0.453606493695)\n",
      "\n",
      "\\begin{tabular}{lrrrrrr}\n",
      "\\toprule\n",
      "{} &    C\\_A &    C\\_P &    C\\_V &   NPMI &    UCI &  UMass \\\\\n",
      "\\midrule\n",
      "corr &  0.092 &  0.368 &  0.129 &  0.416 &  0.364 &  0.076 \\\\\n",
      "\\bottomrule\n",
      "\\end{tabular}\n",
      "\n"
     ]
    }
   ],
   "source": [
    "from scipy.stats.stats import pearsonr\n",
    "\n",
    "measures = ['C_A', 'C_P', 'C_V', 'NPMI', 'UCI', 'UMass']\n",
    "\n",
    "res = {'corr': []}\n",
    "for m in measures:\n",
    "    print m\n",
    "    c, p = pearsonr(data['mean_usefulness'], data[m])\n",
    "    print 'correlation: {} (p = {})'.format(c, p),\n",
    "    if p < 0.001:\n",
    "        print 'significant'\n",
    "    else:\n",
    "        print\n",
    "    print\n",
    "    res['corr'].append(c)\n",
    "print np.round(pd.DataFrame(res, index=measures), decimals=3).T.to_latex()"
   ]
  }
 ],
 "metadata": {
  "kernelspec": {
   "display_name": "Python 2",
   "language": "python",
   "name": "python2"
  },
  "language_info": {
   "codemirror_mode": {
    "name": "ipython",
    "version": 2
   },
   "file_extension": ".py",
   "mimetype": "text/x-python",
   "name": "python",
   "nbconvert_exporter": "python",
   "pygments_lexer": "ipython2",
   "version": "2.7.6"
  }
 },
 "nbformat": 4,
 "nbformat_minor": 0
}
