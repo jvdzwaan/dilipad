{
 "cells": [
  {
   "cell_type": "markdown",
   "metadata": {},
   "source": [
    "# Make file containing topics for calculation of topic coherence\n",
    "\n",
    "* Each topic should be on a single line\n",
    "* Number of topic words to calculate topic coherence?\n",
    "    * Paper about topic coherence (Roder2015) tested with N=5 and N=10, and concluded more words is better\n",
    "    * So, we do 10\n",
    "* Save as txt"
   ]
  },
  {
   "cell_type": "code",
   "execution_count": 3,
   "metadata": {
    "collapsed": true
   },
   "outputs": [],
   "source": [
    "%matplotlib inline\n",
    "\n",
    "import matplotlib\n",
    "import numpy as np\n",
    "import matplotlib.pyplot as plt\n",
    "import pandas as pd\n",
    "\n",
    "pd.set_option('display.mpl_style', 'default') # Make the graphs a bit prettier\n",
    "plt.rcParams['figure.figsize'] = (15, 15)"
   ]
  },
  {
   "cell_type": "code",
   "execution_count": 4,
   "metadata": {
    "collapsed": false
   },
   "outputs": [],
   "source": [
    "from cptm.utils.experiment import load_topics\n",
    "\n",
    "config = {\n",
    "    \"inputData\": \"/path/to/input/data/*\",\n",
    "    \"outDir\": \"/home/jvdzwaan/data/dilipad/results/all_years-adj-cabinets_selected-parties/{}\",\n",
    "    \"nTopics\": 100\n",
    "}\n",
    "\n",
    "topics = load_topics(config)"
   ]
  },
  {
   "cell_type": "code",
   "execution_count": 11,
   "metadata": {
    "collapsed": false
   },
   "outputs": [],
   "source": [
    "from cptm.utils.topics import get_top_topic_words, topic_str\n",
    "import codecs\n",
    "import os\n",
    "\n",
    "with codecs.open(config.get('outDir').format('top_10_topics_100.txt'), 'w', encoding='utf-8') as f:\n",
    "    for i in range(config.get('nTopics')):\n",
    "        top = get_top_topic_words(topics, {}, i, 10)\n",
    "        t = topic_str(top, single_line=True, weights=False, opinions=False)\n",
    "        t = t.replace('topic:\\t', '')\n",
    "        # Lowercase: word justitie is capitalized (for some reason)\n",
    "        t = t.lower()\n",
    "        f.write(t+'\\n')"
   ]
  }
 ],
 "metadata": {
  "kernelspec": {
   "display_name": "Python 2",
   "language": "python",
   "name": "python2"
  },
  "language_info": {
   "codemirror_mode": {
    "name": "ipython",
    "version": 2
   },
   "file_extension": ".py",
   "mimetype": "text/x-python",
   "name": "python",
   "nbconvert_exporter": "python",
   "pygments_lexer": "ipython2",
   "version": "2.7.6"
  }
 },
 "nbformat": 4,
 "nbformat_minor": 0
}
