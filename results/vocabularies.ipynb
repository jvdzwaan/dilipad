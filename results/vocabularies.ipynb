{
 "cells": [
  {
   "cell_type": "code",
   "execution_count": 1,
   "metadata": {
    "collapsed": true
   },
   "outputs": [],
   "source": [
    "%matplotlib inline\n",
    "\n",
    "import matplotlib\n",
    "import numpy as np\n",
    "import matplotlib.pyplot as plt\n",
    "import pandas as pd\n",
    "\n",
    "plt.rcParams['figure.figsize'] = (10, 5)"
   ]
  },
  {
   "cell_type": "code",
   "execution_count": 5,
   "metadata": {
    "collapsed": false
   },
   "outputs": [
    {
     "name": "stdout",
     "output_type": "stream",
     "text": [
      "topicDict: Dictionary(38145 unique tokens: [u'baangarantie', u'ontwerprichtlijn', u'scheuring', u'cli\\xebntniveau', u'leveringsakte']...)\n",
      "opinionDict: Dictionary(6245 unique tokens: [u'verzekeringsplichtig', u'statisch', u'digitaal', u'kindvriendelijk', u'fout']...)\n"
     ]
    }
   ],
   "source": [
    "# parties through time\n",
    "from gensim import corpora\n",
    "\n",
    "config = {\n",
    "    \"inputData\": \"/path/to/input/data/*\",\n",
    "    \"outDir\": \"/home/jvdzwaan/data/dilipad/results/all_years-adj-cabinets_selected-parties/{}\",\n",
    "    \"nTopics\": 100\n",
    "}\n",
    "\n",
    "topicDict = corpora.Dictionary.load(config.get('outDir').format('topicDict.dict'))\n",
    "opinionDict = corpora.Dictionary.load(config.get('outDir').format('opinionDict.dict'))\n",
    "\n",
    "print 'topicDict:', topicDict\n",
    "print 'opinionDict:', opinionDict"
   ]
  },
  {
   "cell_type": "code",
   "execution_count": 7,
   "metadata": {
    "collapsed": false
   },
   "outputs": [
    {
     "name": "stdout",
     "output_type": "stream",
     "text": [
      "topicDict: Dictionary(38145 unique tokens: [u'baangarantie', u'ontwerprichtlijn', u'scheuring', u'cli\\xebntniveau', u'leveringsakte']...)\n",
      "opinionDict: Dictionary(6245 unique tokens: [u'verzekeringsplichtig', u'statisch', u'digitaal', u'kindvriendelijk', u'fout']...)\n"
     ]
    }
   ],
   "source": [
    "# parties (selected parties)\n",
    "config = {\n",
    "    \"inputData\": \"/path/to/input/data/*\",\n",
    "    \"outDir\": \"/home/jvdzwaan/data/dilipad/results/all_years-adj-selected_parties_100/{}\",\n",
    "    \"nTopics\": 100\n",
    "}\n",
    "\n",
    "topicDict = corpora.Dictionary.load(config.get('outDir').format('topicDict.dict'))\n",
    "opinionDict = corpora.Dictionary.load(config.get('outDir').format('opinionDict.dict'))\n",
    "\n",
    "print 'topicDict:', topicDict\n",
    "print 'opinionDict:', opinionDict"
   ]
  }
 ],
 "metadata": {
  "kernelspec": {
   "display_name": "Python 2",
   "language": "python",
   "name": "python2"
  },
  "language_info": {
   "codemirror_mode": {
    "name": "ipython",
    "version": 2
   },
   "file_extension": ".py",
   "mimetype": "text/x-python",
   "name": "python",
   "nbconvert_exporter": "python",
   "pygments_lexer": "ipython2",
   "version": "2.7.6"
  }
 },
 "nbformat": 4,
 "nbformat_minor": 0
}
