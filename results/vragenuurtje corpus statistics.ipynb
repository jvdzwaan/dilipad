{
 "cells": [
  {
   "cell_type": "code",
   "execution_count": 17,
   "metadata": {
    "collapsed": false
   },
   "outputs": [
    {
     "name": "stdout",
     "output_type": "stream",
     "text": [
      "835\n",
      "563\n",
      "133.956886228\n",
      "5\n",
      "410\n"
     ]
    }
   ],
   "source": [
    "import glob\n",
    "import os\n",
    "import pandas as pd\n",
    "import numpy as np\n",
    "\n",
    "in_dir = '/home/jvdzwaan/data/dilipad/CAP/vragenuurtje/*.txt'\n",
    "\n",
    "files = glob.glob(in_dir)\n",
    "print len(files)\n",
    "lengths = {}\n",
    "res = []\n",
    "for fi in files:\n",
    "    text = open(fi).read()\n",
    "    words = text.split()\n",
    "    lengths[os.path.basename(fi)] = [len(words)]\n",
    "    res.append(len(words))\n",
    "\n",
    "len_data = pd.DataFrame(lengths)\n",
    "len_data = len_data.T\n",
    "len_data.columns = ['wordcount']\n",
    "len_data.to_csv('/home/jvdzwaan/data/dilipad/CAP/vragenuurtje_data_lengths.csv')\n",
    "print sum(len_data['wordcount'] >= 100)\n",
    "print np.mean(res)\n",
    "print min(res)\n",
    "print max(res)"
   ]
  }
 ],
 "metadata": {
  "kernelspec": {
   "display_name": "Python 2",
   "language": "python",
   "name": "python2"
  },
  "language_info": {
   "codemirror_mode": {
    "name": "ipython",
    "version": 2
   },
   "file_extension": ".py",
   "mimetype": "text/x-python",
   "name": "python",
   "nbconvert_exporter": "python",
   "pygments_lexer": "ipython2",
   "version": "2.7.6"
  }
 },
 "nbformat": 4,
 "nbformat_minor": 0
}
